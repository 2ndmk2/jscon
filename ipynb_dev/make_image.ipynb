{
 "cells": [
  {
   "cell_type": "code",
   "execution_count": 1,
   "id": "89f337db",
   "metadata": {},
   "outputs": [
    {
     "data": {
      "text/plain": [
       "<module 'make_image' from '/home/aizwms/jasmine/jasmine_contami/make_image.py'>"
      ]
     },
     "execution_count": 1,
     "metadata": {},
     "output_type": "execute_result"
    }
   ],
   "source": [
    "import numpy as np\n",
    "import matplotlib.pyplot as plt\n",
    "from astropy.wcs import WCS\n",
    "import pandas as pd\n",
    "import matplotlib.pyplot as plt\n",
    "from astropy.coordinates import SkyCoord  # High-level coordinates\n",
    "from astropy.coordinates import ICRS, Galactic, FK4, FK5  # Low-level frames\n",
    "from astropy.coordinates import Angle, Latitude, Longitude  # Angles\n",
    "import numpy as np\n",
    "import astropy.units as u\n",
    "import scipy.integrate as integrate\n",
    "from scipy import interpolate\n",
    "import make_image as mk\n",
    "import importlib\n",
    "importlib.reload(mk)\n"
   ]
  },
  {
   "cell_type": "code",
   "execution_count": 3,
   "id": "699af31a",
   "metadata": {},
   "outputs": [
    {
     "name": "stderr",
     "output_type": "stream",
     "text": [
      "/home/aizwms/anaconda3/envs/hzlc_clone/lib/python3.8/site-packages/pandas/core/computation/expressions.py:204: UserWarning: evaluating in Python space because the '*' operator is not supported by numexpr for the bool dtype, use '&' instead\n",
      "  warnings.warn(\n"
     ]
    },
    {
     "data": {
      "text/plain": [
       "'\\nc = SkyCoord(df[\"ra\"].values, df[\"dec\"].values, frame=\"icrs\", unit=\"deg\")\\ngal_l = c.galactic.l.deg\\ngal_b = c.galactic.b.deg\\ngal_l_b = np.array([gal_l , gal_b]).T\\nlmin = np.min(gal_l)\\nlmax = np.max(gal_l)\\nbmin = np.min(gal_b)\\nbmax = np.max(gal_b)\\nfig,ax = plt.subplots(figsize=(10,6), facecolor=\\'w\\')\\nplt.scatter(gal_l, gal_b )\\nplt.xlabel(\"l\", fontsize = 20)\\nplt.ylabel(\"b \", fontsize = 20)\\nplt.xticks(fontsize=18)\\nplt.yticks(fontsize=18)\\nplt.show()\\n'"
      ]
     },
     "execution_count": 3,
     "metadata": {},
     "output_type": "execute_result"
    }
   ],
   "source": [
    "df = mk.get_catalog_info(\"./ibnorth.csv\")\n",
    "mask_hwmag = df[\"hwmag\"] < 14.5\n",
    "hwmag_targets = df[\"hwmag\"] \n",
    "c = SkyCoord(df[\"ra\"].values, df[\"dec\"].values, frame=\"icrs\", unit=\"deg\")\n",
    "gal_l = c.galactic.l.deg\n",
    "gal_b = c.galactic.b.deg\n",
    "\n",
    "\"\"\"\n",
    "c = SkyCoord(df[\"ra\"].values, df[\"dec\"].values, frame=\"icrs\", unit=\"deg\")\n",
    "gal_l = c.galactic.l.deg\n",
    "gal_b = c.galactic.b.deg\n",
    "gal_l_b = np.array([gal_l , gal_b]).T\n",
    "lmin = np.min(gal_l)\n",
    "lmax = np.max(gal_l)\n",
    "bmin = np.min(gal_b)\n",
    "bmax = np.max(gal_b)\n",
    "fig,ax = plt.subplots(figsize=(10,6), facecolor='w')\n",
    "plt.scatter(gal_l, gal_b )\n",
    "plt.xlabel(\"l\", fontsize = 20)\n",
    "plt.ylabel(\"b \", fontsize = 20)\n",
    "plt.xticks(fontsize=18)\n",
    "plt.yticks(fontsize=18)\n",
    "plt.show()\n",
    "\"\"\""
   ]
  },
  {
   "cell_type": "code",
   "execution_count": 4,
   "id": "bd86a3a0",
   "metadata": {},
   "outputs": [],
   "source": [
    "crpix = [0,0]\n",
    "arcsec_deg =  0.00027777777777778 ##\n",
    "sigma_x = .8 # pixel for gaussian\n",
    "sigma_y = .8 # pixel for gaussian\n",
    "\n",
    "## convolved gaussian \n",
    "x_cen_arr = np.linspace(-100, 100, 20000)\n",
    "y_val_arr = []\n",
    "\n",
    "for x_cen in x_cen_arr:\n",
    "    val = mk.pixel_1d_gaussian(x_cen, .5, sigma_x)\n",
    "    y_val_arr.append(val)\n",
    "gauss_conv = mk.interpolate.interp1d(x_cen_arr,  y_val_arr)\n",
    "\n",
    "## make WCS & pixel values for targets\n",
    "cdelt =[0.4 * arcsec_deg , 0.4 * arcsec_deg]\n",
    "skydir =  SkyCoord(359.85* u.deg , 0.54* u.deg, frame=\"galactic\")#, l=0, b=0.5 * u.deg)\n",
    "wcs = mk.create_wcs(skydir, \"GAL\", crpix = crpix, cdelt = cdelt)\n",
    "pixel_targets = wcs.all_world2pix(gal_l, gal_b, 1)"
   ]
  },
  {
   "cell_type": "code",
   "execution_count": 5,
   "id": "5f18904e",
   "metadata": {},
   "outputs": [
    {
     "data": {
      "text/plain": [
       "<matplotlib.collections.PathCollection at 0x14e2661afe80>"
      ]
     },
     "execution_count": 5,
     "metadata": {},
     "output_type": "execute_result"
    },
    {
     "data": {
      "image/png": "[encoded data removed]",
      "text/plain": [
       "<Figure size 432x288 with 1 Axes>"
      ]
     },
     "metadata": {
      "needs_background": "light"
     },
     "output_type": "display_data"
    }
   ],
   "source": [
    "plt.scatter(pixel_targets[0], pixel_targets[1])"
   ]
  },
  {
   "cell_type": "code",
   "execution_count": 6,
   "id": "c79f8c55",
   "metadata": {},
   "outputs": [],
   "source": [
    "\n",
    "#plt.scatter(pixels [0], pixels [1], s =5)\n",
    "#plt.scatter(pixels [0][mask_hwmag], pixels [1][mask_hwmag], s =5)"
   ]
  },
  {
   "cell_type": "code",
   "execution_count": 7,
   "id": "9d04cd2d",
   "metadata": {
    "scrolled": false
   },
   "outputs": [],
   "source": [
    "importlib.reload(mk)\n",
    "image = mk.make_image(pixel_targets, hwmag_targets, gauss_conv)"
   ]
  },
  {
   "cell_type": "code",
   "execution_count": 8,
   "id": "ab23adf5",
   "metadata": {},
   "outputs": [
    {
     "name": "stderr",
     "output_type": "stream",
     "text": [
      "WARNING: The star at (843.5965081139447, 509.8969743758368) cannot be fit because its fitting region extends beyond the star cutout image. [photutils.psf.epsf]\n",
      "WARNING: The star at (570.651517002071, 480.03842322109426) cannot be fit because its fitting region extends beyond the star cutout image. [photutils.psf.epsf]\n",
      "WARNING: The star at (1268.6600981353172, 370.4985127986801) cannot be fit because its fitting region extends beyond the star cutout image. [photutils.psf.epsf]\n",
      "WARNING: The star at (992.8667136735133, 331.2710634292099) cannot be fit because its fitting region extends beyond the star cutout image. [photutils.psf.epsf]\n",
      "WARNING: The star at (843.5965081139447, 509.8969743758368) cannot be fit because its fitting region extends beyond the star cutout image. [photutils.psf.epsf]\n",
      "WARNING: The star at (570.651517002071, 480.03842322109426) cannot be fit because its fitting region extends beyond the star cutout image. [photutils.psf.epsf]\n",
      "WARNING: The star at (1268.6600981353172, 370.4985127986801) cannot be fit because its fitting region extends beyond the star cutout image. [photutils.psf.epsf]\n",
      "WARNING: The star at (992.8667136735133, 331.2710634292099) cannot be fit because its fitting region extends beyond the star cutout image. [photutils.psf.epsf]\n",
      "WARNING: The star at (843.5965081139447, 509.8969743758368) cannot be fit because its fitting region extends beyond the star cutout image. [photutils.psf.epsf]\n",
      "WARNING: The star at (570.651517002071, 480.03842322109426) cannot be fit because its fitting region extends beyond the star cutout image. [photutils.psf.epsf]\n",
      "WARNING: The star at (1268.6600981353172, 370.4985127986801) cannot be fit because its fitting region extends beyond the star cutout image. [photutils.psf.epsf]\n",
      "WARNING: The star at (992.8667136735133, 331.2710634292099) cannot be fit because its fitting region extends beyond the star cutout image. [photutils.psf.epsf]\n",
      "ERROR:root:Internal Python error in the inspect module.\n",
      "Below is the traceback from this internal error.\n",
      "\n",
      "ERROR:root:Internal Python error in the inspect module.\n",
      "Below is the traceback from this internal error.\n",
      "\n"
     ]
    },
    {
     "name": "stdout",
     "output_type": "stream",
     "text": [
      "Traceback (most recent call last):\n",
      "  File \"/home/aizwms/anaconda3/envs/hzlc_clone/lib/python3.8/site-packages/IPython/core/interactiveshell.py\", line 3427, in run_code\n",
      "    exec(code_obj, self.user_global_ns, self.user_ns)\n",
      "  File \"<ipython-input-9-79709b5df274>\", line 7, in <module>\n",
      "    dx, dy  = epsf_fit.main(image, x_target, y_target, lim_vals )\n",
      "  File \"/home/aizwms/jasmine/jasmine_contami/epsf_fit.py\", line 49, in main\n",
      "    epsf, fitted_stars = epsf_builder(stars)\n",
      "  File \"/home/aizwms/anaconda3/envs/hzlc_clone/lib/python3.8/site-packages/photutils/psf/epsf.py\", line 371, in __call__\n",
      "    return self.build_epsf(stars)\n",
      "  File \"/home/aizwms/anaconda3/envs/hzlc_clone/lib/python3.8/site-packages/photutils/psf/epsf.py\", line 847, in build_epsf\n",
      "    stars = self.fitter(epsf, stars)\n",
      "  File \"/home/aizwms/anaconda3/envs/hzlc_clone/lib/python3.8/site-packages/photutils/psf/epsf.py\", line 120, in __call__\n",
      "    fitted_star = self._fit_star(epsf, star, self.fitter,\n",
      "  File \"/home/aizwms/anaconda3/envs/hzlc_clone/lib/python3.8/site-packages/photutils/psf/epsf.py\", line 201, in _fit_star\n",
      "    fitted_epsf = fitter(model=epsf, x=xx, y=yy, z=data,\n",
      "  File \"/home/aizwms/anaconda3/envs/hzlc_clone/lib/python3.8/site-packages/astropy/modeling/fitting.py\", line 263, in wrapper\n",
      "    return func(self, model, x, y, z=z, **kwargs)\n",
      "  File \"/home/aizwms/anaconda3/envs/hzlc_clone/lib/python3.8/site-packages/astropy/modeling/fitting.py\", line 1160, in __call__\n",
      "    _fitter_to_model_params(model_copy, fitparams)\n",
      "  File \"/home/aizwms/anaconda3/envs/hzlc_clone/lib/python3.8/site-packages/astropy/modeling/fitting.py\", line 1597, in _fitter_to_model_params\n",
      "    has_fixed = any(model.fixed.values())\n",
      "  File \"/home/aizwms/anaconda3/envs/hzlc_clone/lib/python3.8/site-packages/astropy/modeling/core.py\", line 1064, in fixed\n",
      "    return _ConstraintsDict(self, 'fixed')\n",
      "  File \"/home/aizwms/anaconda3/envs/hzlc_clone/lib/python3.8/site-packages/astropy/modeling/utils.py\", line 758, in __init__\n",
      "    super().__init__(c)\n",
      "  File \"/home/aizwms/anaconda3/envs/hzlc_clone/lib/python3.8/collections/__init__.py\", line 999, in __init__\n",
      "    self.update(dict)\n",
      "  File \"/home/aizwms/anaconda3/envs/hzlc_clone/lib/python3.8/_collections_abc.py\", line 832, in update\n",
      "    self[key] = other[key]\n",
      "  File \"/home/aizwms/anaconda3/envs/hzlc_clone/lib/python3.8/site-packages/astropy/modeling/utils.py\", line 763, in __setitem__\n",
      "    setattr(param, self.constraint_type, val)\n",
      "  File \"/home/aizwms/anaconda3/envs/hzlc_clone/lib/python3.8/site-packages/astropy/modeling/parameters.py\", line 469, in fixed\n",
      "    @fixed.setter\n",
      "KeyboardInterrupt\n",
      "\n",
      "During handling of the above exception, another exception occurred:\n",
      "\n",
      "Traceback (most recent call last):\n",
      "  File \"/home/aizwms/anaconda3/envs/hzlc_clone/lib/python3.8/site-packages/IPython/core/interactiveshell.py\", line 2054, in showtraceback\n",
      "    stb = value._render_traceback_()\n",
      "AttributeError: 'KeyboardInterrupt' object has no attribute '_render_traceback_'\n",
      "\n",
      "During handling of the above exception, another exception occurred:\n",
      "\n",
      "Traceback (most recent call last):\n",
      "  File \"/home/aizwms/anaconda3/envs/hzlc_clone/lib/python3.8/site-packages/IPython/core/ultratb.py\", line 1101, in get_records\n",
      "    return _fixed_getinnerframes(etb, number_of_lines_of_context, tb_offset)\n",
      "  File \"/home/aizwms/anaconda3/envs/hzlc_clone/lib/python3.8/site-packages/IPython/core/ultratb.py\", line 248, in wrapped\n",
      "    return f(*args, **kwargs)\n",
      "  File \"/home/aizwms/anaconda3/envs/hzlc_clone/lib/python3.8/site-packages/IPython/core/ultratb.py\", line 281, in _fixed_getinnerframes\n",
      "    records = fix_frame_records_filenames(inspect.getinnerframes(etb, context))\n",
      "  File \"/home/aizwms/anaconda3/envs/hzlc_clone/lib/python3.8/inspect.py\", line 1515, in getinnerframes\n",
      "    frameinfo = (tb.tb_frame,) + getframeinfo(tb, context)\n",
      "  File \"/home/aizwms/anaconda3/envs/hzlc_clone/lib/python3.8/inspect.py\", line 1473, in getframeinfo\n",
      "    filename = getsourcefile(frame) or getfile(frame)\n",
      "  File \"/home/aizwms/anaconda3/envs/hzlc_clone/lib/python3.8/inspect.py\", line 708, in getsourcefile\n",
      "    if getattr(getmodule(object, filename), '__loader__', None) is not None:\n",
      "  File \"/home/aizwms/anaconda3/envs/hzlc_clone/lib/python3.8/inspect.py\", line 745, in getmodule\n",
      "    if ismodule(module) and hasattr(module, '__file__'):\n",
      "KeyboardInterrupt\n",
      "Traceback (most recent call last):\n",
      "  File \"/home/aizwms/anaconda3/envs/hzlc_clone/lib/python3.8/site-packages/IPython/core/interactiveshell.py\", line 3427, in run_code\n",
      "    exec(code_obj, self.user_global_ns, self.user_ns)\n",
      "  File \"<ipython-input-9-79709b5df274>\", line 7, in <module>\n",
      "    dx, dy  = epsf_fit.main(image, x_target, y_target, lim_vals )\n",
      "  File \"/home/aizwms/jasmine/jasmine_contami/epsf_fit.py\", line 49, in main\n",
      "    epsf, fitted_stars = epsf_builder(stars)\n",
      "  File \"/home/aizwms/anaconda3/envs/hzlc_clone/lib/python3.8/site-packages/photutils/psf/epsf.py\", line 371, in __call__\n",
      "    return self.build_epsf(stars)\n",
      "  File \"/home/aizwms/anaconda3/envs/hzlc_clone/lib/python3.8/site-packages/photutils/psf/epsf.py\", line 847, in build_epsf\n",
      "    stars = self.fitter(epsf, stars)\n",
      "  File \"/home/aizwms/anaconda3/envs/hzlc_clone/lib/python3.8/site-packages/photutils/psf/epsf.py\", line 120, in __call__\n",
      "    fitted_star = self._fit_star(epsf, star, self.fitter,\n",
      "  File \"/home/aizwms/anaconda3/envs/hzlc_clone/lib/python3.8/site-packages/photutils/psf/epsf.py\", line 201, in _fit_star\n",
      "    fitted_epsf = fitter(model=epsf, x=xx, y=yy, z=data,\n",
      "  File \"/home/aizwms/anaconda3/envs/hzlc_clone/lib/python3.8/site-packages/astropy/modeling/fitting.py\", line 263, in wrapper\n",
      "    return func(self, model, x, y, z=z, **kwargs)\n",
      "  File \"/home/aizwms/anaconda3/envs/hzlc_clone/lib/python3.8/site-packages/astropy/modeling/fitting.py\", line 1160, in __call__\n",
      "    _fitter_to_model_params(model_copy, fitparams)\n",
      "  File \"/home/aizwms/anaconda3/envs/hzlc_clone/lib/python3.8/site-packages/astropy/modeling/fitting.py\", line 1597, in _fitter_to_model_params\n",
      "    has_fixed = any(model.fixed.values())\n",
      "  File \"/home/aizwms/anaconda3/envs/hzlc_clone/lib/python3.8/site-packages/astropy/modeling/core.py\", line 1064, in fixed\n",
      "    return _ConstraintsDict(self, 'fixed')\n",
      "  File \"/home/aizwms/anaconda3/envs/hzlc_clone/lib/python3.8/site-packages/astropy/modeling/utils.py\", line 758, in __init__\n",
      "    super().__init__(c)\n",
      "  File \"/home/aizwms/anaconda3/envs/hzlc_clone/lib/python3.8/collections/__init__.py\", line 999, in __init__\n",
      "    self.update(dict)\n",
      "  File \"/home/aizwms/anaconda3/envs/hzlc_clone/lib/python3.8/_collections_abc.py\", line 832, in update\n",
      "    self[key] = other[key]\n",
      "  File \"/home/aizwms/anaconda3/envs/hzlc_clone/lib/python3.8/site-packages/astropy/modeling/utils.py\", line 763, in __setitem__\n",
      "    setattr(param, self.constraint_type, val)\n",
      "  File \"/home/aizwms/anaconda3/envs/hzlc_clone/lib/python3.8/site-packages/astropy/modeling/parameters.py\", line 469, in fixed\n",
      "    @fixed.setter\n",
      "KeyboardInterrupt\n",
      "\n",
      "During handling of the above exception, another exception occurred:\n",
      "\n",
      "Traceback (most recent call last):\n",
      "  File \"/home/aizwms/anaconda3/envs/hzlc_clone/lib/python3.8/site-packages/IPython/core/interactiveshell.py\", line 2054, in showtraceback\n",
      "    stb = value._render_traceback_()\n",
      "AttributeError: 'KeyboardInterrupt' object has no attribute '_render_traceback_'\n",
      "\n",
      "During handling of the above exception, another exception occurred:\n",
      "\n",
      "Traceback (most recent call last):\n",
      "  File \"/home/aizwms/anaconda3/envs/hzlc_clone/lib/python3.8/site-packages/IPython/core/interactiveshell.py\", line 3347, in run_ast_nodes\n",
      "    if (await self.run_code(code, result,  async_=asy)):\n",
      "  File \"/home/aizwms/anaconda3/envs/hzlc_clone/lib/python3.8/site-packages/IPython/core/interactiveshell.py\", line 3444, in run_code\n",
      "    self.showtraceback(running_compiled_code=True)\n",
      "  File \"/home/aizwms/anaconda3/envs/hzlc_clone/lib/python3.8/site-packages/IPython/core/interactiveshell.py\", line 2056, in showtraceback\n",
      "    stb = self.InteractiveTB.structured_traceback(etype,\n",
      "  File \"/home/aizwms/anaconda3/envs/hzlc_clone/lib/python3.8/site-packages/IPython/core/ultratb.py\", line 1367, in structured_traceback\n",
      "    return FormattedTB.structured_traceback(\n",
      "  File \"/home/aizwms/anaconda3/envs/hzlc_clone/lib/python3.8/site-packages/IPython/core/ultratb.py\", line 1267, in structured_traceback\n",
      "    return VerboseTB.structured_traceback(\n",
      "  File \"/home/aizwms/anaconda3/envs/hzlc_clone/lib/python3.8/site-packages/IPython/core/ultratb.py\", line 1124, in structured_traceback\n",
      "    formatted_exception = self.format_exception_as_a_whole(etype, evalue, etb, number_of_lines_of_context,\n",
      "  File \"/home/aizwms/anaconda3/envs/hzlc_clone/lib/python3.8/site-packages/IPython/core/ultratb.py\", line 1082, in format_exception_as_a_whole\n",
      "    last_unique, recursion_repeat = find_recursion(orig_etype, evalue, records)\n",
      "  File \"/home/aizwms/anaconda3/envs/hzlc_clone/lib/python3.8/site-packages/IPython/core/ultratb.py\", line 382, in find_recursion\n",
      "    return len(records), 0\n",
      "TypeError: object of type 'NoneType' has no len()\n",
      "\n",
      "During handling of the above exception, another exception occurred:\n",
      "\n",
      "Traceback (most recent call last):\n",
      "  File \"/home/aizwms/anaconda3/envs/hzlc_clone/lib/python3.8/site-packages/IPython/core/interactiveshell.py\", line 2054, in showtraceback\n",
      "    stb = value._render_traceback_()\n",
      "AttributeError: 'TypeError' object has no attribute '_render_traceback_'\n",
      "\n",
      "During handling of the above exception, another exception occurred:\n",
      "\n",
      "Traceback (most recent call last):\n",
      "  File \"/home/aizwms/anaconda3/envs/hzlc_clone/lib/python3.8/site-packages/IPython/core/ultratb.py\", line 1101, in get_records\n",
      "    return _fixed_getinnerframes(etb, number_of_lines_of_context, tb_offset)\n",
      "  File \"/home/aizwms/anaconda3/envs/hzlc_clone/lib/python3.8/site-packages/IPython/core/ultratb.py\", line 248, in wrapped\n",
      "    return f(*args, **kwargs)\n",
      "  File \"/home/aizwms/anaconda3/envs/hzlc_clone/lib/python3.8/site-packages/IPython/core/ultratb.py\", line 281, in _fixed_getinnerframes\n",
      "    records = fix_frame_records_filenames(inspect.getinnerframes(etb, context))\n",
      "  File \"/home/aizwms/anaconda3/envs/hzlc_clone/lib/python3.8/inspect.py\", line 1515, in getinnerframes\n",
      "    frameinfo = (tb.tb_frame,) + getframeinfo(tb, context)\n",
      "  File \"/home/aizwms/anaconda3/envs/hzlc_clone/lib/python3.8/inspect.py\", line 1473, in getframeinfo\n",
      "    filename = getsourcefile(frame) or getfile(frame)\n",
      "  File \"/home/aizwms/anaconda3/envs/hzlc_clone/lib/python3.8/inspect.py\", line 705, in getsourcefile\n",
      "    if os.path.exists(filename):\n",
      "  File \"/home/aizwms/anaconda3/envs/hzlc_clone/lib/python3.8/genericpath.py\", line 19, in exists\n",
      "    os.stat(path)\n",
      "KeyboardInterrupt\n"
     ]
    },
    {
     "ename": "TypeError",
     "evalue": "object of type 'NoneType' has no len()",
     "output_type": "error",
     "traceback": [
      "\u001b[0;31m---------------------------------------------------------------------------\u001b[0m",
      "\u001b[0;31mKeyboardInterrupt\u001b[0m                         Traceback (most recent call last)",
      "    \u001b[0;31m[... skipping hidden 1 frame]\u001b[0m\n",
      "\u001b[0;32m<ipython-input-9-79709b5df274>\u001b[0m in \u001b[0;36m<module>\u001b[0;34m\u001b[0m\n\u001b[1;32m      6\u001b[0m \u001b[0my_target\u001b[0m \u001b[0;34m=\u001b[0m \u001b[0mpixel_targets\u001b[0m \u001b[0;34m[\u001b[0m\u001b[0;36m1\u001b[0m\u001b[0;34m]\u001b[0m\u001b[0;34m[\u001b[0m\u001b[0mmask_hwmag\u001b[0m \u001b[0;34m]\u001b[0m\u001b[0;34m\u001b[0m\u001b[0;34m\u001b[0m\u001b[0m\n\u001b[0;32m----> 7\u001b[0;31m \u001b[0mdx\u001b[0m\u001b[0;34m,\u001b[0m \u001b[0mdy\u001b[0m  \u001b[0;34m=\u001b[0m \u001b[0mepsf_fit\u001b[0m\u001b[0;34m.\u001b[0m\u001b[0mmain\u001b[0m\u001b[0;34m(\u001b[0m\u001b[0mimage\u001b[0m\u001b[0;34m,\u001b[0m \u001b[0mx_target\u001b[0m\u001b[0;34m,\u001b[0m \u001b[0my_target\u001b[0m\u001b[0;34m,\u001b[0m \u001b[0mlim_vals\u001b[0m \u001b[0;34m)\u001b[0m\u001b[0;34m\u001b[0m\u001b[0;34m\u001b[0m\u001b[0m\n\u001b[0m",
      "\u001b[0;32m~/jasmine/jasmine_contami/epsf_fit.py\u001b[0m in \u001b[0;36mmain\u001b[0;34m(image, x_target, y_target, lim_vals, mask_size, ext_size, n_oversample, n_maxiter, norm_radius, recentering_boxsize)\u001b[0m\n\u001b[1;32m     48\u001b[0m \u001b[0;34m\u001b[0m\u001b[0m\n\u001b[0;32m---> 49\u001b[0;31m     \u001b[0mepsf\u001b[0m\u001b[0;34m,\u001b[0m \u001b[0mfitted_stars\u001b[0m \u001b[0;34m=\u001b[0m \u001b[0mepsf_builder\u001b[0m\u001b[0;34m(\u001b[0m\u001b[0mstars\u001b[0m\u001b[0;34m)\u001b[0m\u001b[0;34m\u001b[0m\u001b[0;34m\u001b[0m\u001b[0m\n\u001b[0m\u001b[1;32m     50\u001b[0m     \u001b[0mpos_stars\u001b[0m \u001b[0;34m=\u001b[0m \u001b[0mfitted_stars\u001b[0m\u001b[0;34m.\u001b[0m\u001b[0mcenter_flat\u001b[0m\u001b[0;34m\u001b[0m\u001b[0;34m\u001b[0m\u001b[0m\n",
      "\u001b[0;32m~/anaconda3/envs/hzlc_clone/lib/python3.8/site-packages/photutils/psf/epsf.py\u001b[0m in \u001b[0;36m__call__\u001b[0;34m(self, stars)\u001b[0m\n\u001b[1;32m    370\u001b[0m     \u001b[0;32mdef\u001b[0m \u001b[0m__call__\u001b[0m\u001b[0;34m(\u001b[0m\u001b[0mself\u001b[0m\u001b[0;34m,\u001b[0m \u001b[0mstars\u001b[0m\u001b[0;34m)\u001b[0m\u001b[0;34m:\u001b[0m\u001b[0;34m\u001b[0m\u001b[0;34m\u001b[0m\u001b[0m\n\u001b[0;32m--> 371\u001b[0;31m         \u001b[0;32mreturn\u001b[0m \u001b[0mself\u001b[0m\u001b[0;34m.\u001b[0m\u001b[0mbuild_epsf\u001b[0m\u001b[0;34m(\u001b[0m\u001b[0mstars\u001b[0m\u001b[0;34m)\u001b[0m\u001b[0;34m\u001b[0m\u001b[0;34m\u001b[0m\u001b[0m\n\u001b[0m\u001b[1;32m    372\u001b[0m \u001b[0;34m\u001b[0m\u001b[0m\n",
      "\u001b[0;32m~/anaconda3/envs/hzlc_clone/lib/python3.8/site-packages/photutils/psf/epsf.py\u001b[0m in \u001b[0;36mbuild_epsf\u001b[0;34m(self, stars, init_epsf)\u001b[0m\n\u001b[1;32m    846\u001b[0m                                         category=AstropyUserWarning)\n\u001b[0;32m--> 847\u001b[0;31m                 \u001b[0mstars\u001b[0m \u001b[0;34m=\u001b[0m \u001b[0mself\u001b[0m\u001b[0;34m.\u001b[0m\u001b[0mfitter\u001b[0m\u001b[0;34m(\u001b[0m\u001b[0mepsf\u001b[0m\u001b[0;34m,\u001b[0m \u001b[0mstars\u001b[0m\u001b[0;34m)\u001b[0m\u001b[0;34m\u001b[0m\u001b[0;34m\u001b[0m\u001b[0m\n\u001b[0m\u001b[1;32m    848\u001b[0m \u001b[0;34m\u001b[0m\u001b[0m\n",
      "\u001b[0;32m~/anaconda3/envs/hzlc_clone/lib/python3.8/site-packages/photutils/psf/epsf.py\u001b[0m in \u001b[0;36m__call__\u001b[0;34m(self, epsf, stars)\u001b[0m\n\u001b[1;32m    119\u001b[0m             \u001b[0;32mif\u001b[0m \u001b[0misinstance\u001b[0m\u001b[0;34m(\u001b[0m\u001b[0mstar\u001b[0m\u001b[0;34m,\u001b[0m \u001b[0mEPSFStar\u001b[0m\u001b[0;34m)\u001b[0m\u001b[0;34m:\u001b[0m\u001b[0;34m\u001b[0m\u001b[0;34m\u001b[0m\u001b[0m\n\u001b[0;32m--> 120\u001b[0;31m                 fitted_star = self._fit_star(epsf, star, self.fitter,\n\u001b[0m\u001b[1;32m    121\u001b[0m                                              \u001b[0mself\u001b[0m\u001b[0;34m.\u001b[0m\u001b[0mfitter_kwargs\u001b[0m\u001b[0;34m,\u001b[0m\u001b[0;34m\u001b[0m\u001b[0;34m\u001b[0m\u001b[0m\n",
      "\u001b[0;32m~/anaconda3/envs/hzlc_clone/lib/python3.8/site-packages/photutils/psf/epsf.py\u001b[0m in \u001b[0;36m_fit_star\u001b[0;34m(self, epsf, star, fitter, fitter_kwargs, fitter_has_fit_info, fit_boxsize)\u001b[0m\n\u001b[1;32m    200\u001b[0m         \u001b[0;32mtry\u001b[0m\u001b[0;34m:\u001b[0m\u001b[0;34m\u001b[0m\u001b[0;34m\u001b[0m\u001b[0m\n\u001b[0;32m--> 201\u001b[0;31m             fitted_epsf = fitter(model=epsf, x=xx, y=yy, z=data,\n\u001b[0m\u001b[1;32m    202\u001b[0m                                  weights=weights, **fitter_kwargs)\n",
      "\u001b[0;32m~/anaconda3/envs/hzlc_clone/lib/python3.8/site-packages/astropy/modeling/fitting.py\u001b[0m in \u001b[0;36mwrapper\u001b[0;34m(self, model, x, y, z, **kwargs)\u001b[0m\n\u001b[1;32m    262\u001b[0m \u001b[0;34m\u001b[0m\u001b[0m\n\u001b[0;32m--> 263\u001b[0;31m             \u001b[0;32mreturn\u001b[0m \u001b[0mfunc\u001b[0m\u001b[0;34m(\u001b[0m\u001b[0mself\u001b[0m\u001b[0;34m,\u001b[0m \u001b[0mmodel\u001b[0m\u001b[0;34m,\u001b[0m \u001b[0mx\u001b[0m\u001b[0;34m,\u001b[0m \u001b[0my\u001b[0m\u001b[0;34m,\u001b[0m \u001b[0mz\u001b[0m\u001b[0;34m=\u001b[0m\u001b[0mz\u001b[0m\u001b[0;34m,\u001b[0m \u001b[0;34m**\u001b[0m\u001b[0mkwargs\u001b[0m\u001b[0;34m)\u001b[0m\u001b[0;34m\u001b[0m\u001b[0;34m\u001b[0m\u001b[0m\n\u001b[0m\u001b[1;32m    264\u001b[0m \u001b[0;34m\u001b[0m\u001b[0m\n",
      "\u001b[0;32m~/anaconda3/envs/hzlc_clone/lib/python3.8/site-packages/astropy/modeling/fitting.py\u001b[0m in \u001b[0;36m__call__\u001b[0;34m(self, model, x, y, z, weights, maxiter, acc, epsilon, estimate_jacobian)\u001b[0m\n\u001b[1;32m   1159\u001b[0m             xtol=acc, full_output=True)\n\u001b[0;32m-> 1160\u001b[0;31m         \u001b[0m_fitter_to_model_params\u001b[0m\u001b[0;34m(\u001b[0m\u001b[0mmodel_copy\u001b[0m\u001b[0;34m,\u001b[0m \u001b[0mfitparams\u001b[0m\u001b[0;34m)\u001b[0m\u001b[0;34m\u001b[0m\u001b[0;34m\u001b[0m\u001b[0m\n\u001b[0m\u001b[1;32m   1161\u001b[0m         \u001b[0mself\u001b[0m\u001b[0;34m.\u001b[0m\u001b[0mfit_info\u001b[0m\u001b[0;34m.\u001b[0m\u001b[0mupdate\u001b[0m\u001b[0;34m(\u001b[0m\u001b[0mdinfo\u001b[0m\u001b[0;34m)\u001b[0m\u001b[0;34m\u001b[0m\u001b[0;34m\u001b[0m\u001b[0m\n",
      "\u001b[0;32m~/anaconda3/envs/hzlc_clone/lib/python3.8/site-packages/astropy/modeling/fitting.py\u001b[0m in \u001b[0;36m_fitter_to_model_params\u001b[0;34m(model, fps)\u001b[0m\n\u001b[1;32m   1596\u001b[0m     \u001b[0mhas_tied\u001b[0m \u001b[0;34m=\u001b[0m \u001b[0many\u001b[0m\u001b[0;34m(\u001b[0m\u001b[0mmodel\u001b[0m\u001b[0;34m.\u001b[0m\u001b[0mtied\u001b[0m\u001b[0;34m.\u001b[0m\u001b[0mvalues\u001b[0m\u001b[0;34m(\u001b[0m\u001b[0;34m)\u001b[0m\u001b[0;34m)\u001b[0m\u001b[0;34m\u001b[0m\u001b[0;34m\u001b[0m\u001b[0m\n\u001b[0;32m-> 1597\u001b[0;31m     \u001b[0mhas_fixed\u001b[0m \u001b[0;34m=\u001b[0m \u001b[0many\u001b[0m\u001b[0;34m(\u001b[0m\u001b[0mmodel\u001b[0m\u001b[0;34m.\u001b[0m\u001b[0mfixed\u001b[0m\u001b[0;34m.\u001b[0m\u001b[0mvalues\u001b[0m\u001b[0;34m(\u001b[0m\u001b[0;34m)\u001b[0m\u001b[0;34m)\u001b[0m\u001b[0;34m\u001b[0m\u001b[0;34m\u001b[0m\u001b[0m\n\u001b[0m\u001b[1;32m   1598\u001b[0m     \u001b[0mhas_bound\u001b[0m \u001b[0;34m=\u001b[0m \u001b[0many\u001b[0m\u001b[0;34m(\u001b[0m\u001b[0mb\u001b[0m \u001b[0;34m!=\u001b[0m \u001b[0;34m(\u001b[0m\u001b[0;32mNone\u001b[0m\u001b[0;34m,\u001b[0m \u001b[0;32mNone\u001b[0m\u001b[0;34m)\u001b[0m \u001b[0;32mfor\u001b[0m \u001b[0mb\u001b[0m \u001b[0;32min\u001b[0m \u001b[0mmodel\u001b[0m\u001b[0;34m.\u001b[0m\u001b[0mbounds\u001b[0m\u001b[0;34m.\u001b[0m\u001b[0mvalues\u001b[0m\u001b[0;34m(\u001b[0m\u001b[0;34m)\u001b[0m\u001b[0;34m)\u001b[0m\u001b[0;34m\u001b[0m\u001b[0;34m\u001b[0m\u001b[0m\n",
      "\u001b[0;32m~/anaconda3/envs/hzlc_clone/lib/python3.8/site-packages/astropy/modeling/core.py\u001b[0m in \u001b[0;36mfixed\u001b[0;34m(self)\u001b[0m\n\u001b[1;32m   1063\u001b[0m \u001b[0;34m\u001b[0m\u001b[0m\n\u001b[0;32m-> 1064\u001b[0;31m         \u001b[0;32mreturn\u001b[0m \u001b[0m_ConstraintsDict\u001b[0m\u001b[0;34m(\u001b[0m\u001b[0mself\u001b[0m\u001b[0;34m,\u001b[0m \u001b[0;34m'fixed'\u001b[0m\u001b[0;34m)\u001b[0m\u001b[0;34m\u001b[0m\u001b[0;34m\u001b[0m\u001b[0m\n\u001b[0m\u001b[1;32m   1065\u001b[0m \u001b[0;34m\u001b[0m\u001b[0m\n",
      "\u001b[0;32m~/anaconda3/envs/hzlc_clone/lib/python3.8/site-packages/astropy/modeling/utils.py\u001b[0m in \u001b[0;36m__init__\u001b[0;34m(self, model, constraint_type)\u001b[0m\n\u001b[1;32m    757\u001b[0m             \u001b[0mc\u001b[0m\u001b[0;34m[\u001b[0m\u001b[0mname\u001b[0m\u001b[0;34m]\u001b[0m \u001b[0;34m=\u001b[0m \u001b[0mgetattr\u001b[0m\u001b[0;34m(\u001b[0m\u001b[0mparam\u001b[0m\u001b[0;34m,\u001b[0m \u001b[0mconstraint_type\u001b[0m\u001b[0;34m)\u001b[0m\u001b[0;34m\u001b[0m\u001b[0;34m\u001b[0m\u001b[0m\n\u001b[0;32m--> 758\u001b[0;31m         \u001b[0msuper\u001b[0m\u001b[0;34m(\u001b[0m\u001b[0;34m)\u001b[0m\u001b[0;34m.\u001b[0m\u001b[0m__init__\u001b[0m\u001b[0;34m(\u001b[0m\u001b[0mc\u001b[0m\u001b[0;34m)\u001b[0m\u001b[0;34m\u001b[0m\u001b[0;34m\u001b[0m\u001b[0m\n\u001b[0m\u001b[1;32m    759\u001b[0m \u001b[0;34m\u001b[0m\u001b[0m\n",
      "\u001b[0;32m~/anaconda3/envs/hzlc_clone/lib/python3.8/collections/__init__.py\u001b[0m in \u001b[0;36m__init__\u001b[0;34m(*args, **kwargs)\u001b[0m\n\u001b[1;32m    998\u001b[0m         \u001b[0;32mif\u001b[0m \u001b[0mdict\u001b[0m \u001b[0;32mis\u001b[0m \u001b[0;32mnot\u001b[0m \u001b[0;32mNone\u001b[0m\u001b[0;34m:\u001b[0m\u001b[0;34m\u001b[0m\u001b[0;34m\u001b[0m\u001b[0m\n\u001b[0;32m--> 999\u001b[0;31m             \u001b[0mself\u001b[0m\u001b[0;34m.\u001b[0m\u001b[0mupdate\u001b[0m\u001b[0;34m(\u001b[0m\u001b[0mdict\u001b[0m\u001b[0;34m)\u001b[0m\u001b[0;34m\u001b[0m\u001b[0;34m\u001b[0m\u001b[0m\n\u001b[0m\u001b[1;32m   1000\u001b[0m         \u001b[0;32mif\u001b[0m \u001b[0mkwargs\u001b[0m\u001b[0;34m:\u001b[0m\u001b[0;34m\u001b[0m\u001b[0;34m\u001b[0m\u001b[0m\n",
      "\u001b[0;32m~/anaconda3/envs/hzlc_clone/lib/python3.8/_collections_abc.py\u001b[0m in \u001b[0;36mupdate\u001b[0;34m(self, other, **kwds)\u001b[0m\n\u001b[1;32m    831\u001b[0m             \u001b[0;32mfor\u001b[0m \u001b[0mkey\u001b[0m \u001b[0;32min\u001b[0m \u001b[0mother\u001b[0m\u001b[0;34m:\u001b[0m\u001b[0;34m\u001b[0m\u001b[0;34m\u001b[0m\u001b[0m\n\u001b[0;32m--> 832\u001b[0;31m                 \u001b[0mself\u001b[0m\u001b[0;34m[\u001b[0m\u001b[0mkey\u001b[0m\u001b[0;34m]\u001b[0m \u001b[0;34m=\u001b[0m \u001b[0mother\u001b[0m\u001b[0;34m[\u001b[0m\u001b[0mkey\u001b[0m\u001b[0;34m]\u001b[0m\u001b[0;34m\u001b[0m\u001b[0;34m\u001b[0m\u001b[0m\n\u001b[0m\u001b[1;32m    833\u001b[0m         \u001b[0;32melif\u001b[0m \u001b[0mhasattr\u001b[0m\u001b[0;34m(\u001b[0m\u001b[0mother\u001b[0m\u001b[0;34m,\u001b[0m \u001b[0;34m\"keys\"\u001b[0m\u001b[0;34m)\u001b[0m\u001b[0;34m:\u001b[0m\u001b[0;34m\u001b[0m\u001b[0;34m\u001b[0m\u001b[0m\n",
      "\u001b[0;32m~/anaconda3/envs/hzlc_clone/lib/python3.8/site-packages/astropy/modeling/utils.py\u001b[0m in \u001b[0;36m__setitem__\u001b[0;34m(self, key, val)\u001b[0m\n\u001b[1;32m    762\u001b[0m         \u001b[0mparam\u001b[0m \u001b[0;34m=\u001b[0m \u001b[0mgetattr\u001b[0m\u001b[0;34m(\u001b[0m\u001b[0mself\u001b[0m\u001b[0;34m.\u001b[0m\u001b[0m_model\u001b[0m\u001b[0;34m,\u001b[0m \u001b[0mkey\u001b[0m\u001b[0;34m)\u001b[0m\u001b[0;34m\u001b[0m\u001b[0;34m\u001b[0m\u001b[0m\n\u001b[0;32m--> 763\u001b[0;31m         \u001b[0msetattr\u001b[0m\u001b[0;34m(\u001b[0m\u001b[0mparam\u001b[0m\u001b[0;34m,\u001b[0m \u001b[0mself\u001b[0m\u001b[0;34m.\u001b[0m\u001b[0mconstraint_type\u001b[0m\u001b[0;34m,\u001b[0m \u001b[0mval\u001b[0m\u001b[0;34m)\u001b[0m\u001b[0;34m\u001b[0m\u001b[0;34m\u001b[0m\u001b[0m\n\u001b[0m",
      "\u001b[0;32m~/anaconda3/envs/hzlc_clone/lib/python3.8/site-packages/astropy/modeling/parameters.py\u001b[0m in \u001b[0;36mfixed\u001b[0;34m(self, value)\u001b[0m\n\u001b[1;32m    468\u001b[0m \u001b[0;34m\u001b[0m\u001b[0m\n\u001b[0;32m--> 469\u001b[0;31m     \u001b[0;34m@\u001b[0m\u001b[0mfixed\u001b[0m\u001b[0;34m.\u001b[0m\u001b[0msetter\u001b[0m\u001b[0;34m\u001b[0m\u001b[0;34m\u001b[0m\u001b[0m\n\u001b[0m\u001b[1;32m    470\u001b[0m     \u001b[0;32mdef\u001b[0m \u001b[0mfixed\u001b[0m\u001b[0;34m(\u001b[0m\u001b[0mself\u001b[0m\u001b[0;34m,\u001b[0m \u001b[0mvalue\u001b[0m\u001b[0;34m)\u001b[0m\u001b[0;34m:\u001b[0m\u001b[0;34m\u001b[0m\u001b[0;34m\u001b[0m\u001b[0m\n",
      "\u001b[0;31mKeyboardInterrupt\u001b[0m: ",
      "\nDuring handling of the above exception, another exception occurred:\n",
      "\u001b[0;31mAttributeError\u001b[0m                            Traceback (most recent call last)",
      "\u001b[0;32m~/anaconda3/envs/hzlc_clone/lib/python3.8/site-packages/IPython/core/interactiveshell.py\u001b[0m in \u001b[0;36mshowtraceback\u001b[0;34m(self, exc_tuple, filename, tb_offset, exception_only, running_compiled_code)\u001b[0m\n\u001b[1;32m   2053\u001b[0m                         \u001b[0;31m# in the engines. This should return a list of strings.\u001b[0m\u001b[0;34m\u001b[0m\u001b[0;34m\u001b[0m\u001b[0;34m\u001b[0m\u001b[0m\n\u001b[0;32m-> 2054\u001b[0;31m                         \u001b[0mstb\u001b[0m \u001b[0;34m=\u001b[0m \u001b[0mvalue\u001b[0m\u001b[0;34m.\u001b[0m\u001b[0m_render_traceback_\u001b[0m\u001b[0;34m(\u001b[0m\u001b[0;34m)\u001b[0m\u001b[0;34m\u001b[0m\u001b[0;34m\u001b[0m\u001b[0m\n\u001b[0m\u001b[1;32m   2055\u001b[0m                     \u001b[0;32mexcept\u001b[0m \u001b[0mException\u001b[0m\u001b[0;34m:\u001b[0m\u001b[0;34m\u001b[0m\u001b[0;34m\u001b[0m\u001b[0m\n",
      "\u001b[0;31mAttributeError\u001b[0m: 'KeyboardInterrupt' object has no attribute '_render_traceback_'",
      "\nDuring handling of the above exception, another exception occurred:\n",
      "\u001b[0;31mTypeError\u001b[0m                                 Traceback (most recent call last)",
      "\u001b[0;32m~/anaconda3/envs/hzlc_clone/lib/python3.8/site-packages/IPython/core/interactiveshell.py\u001b[0m in \u001b[0;36mrun_ast_nodes\u001b[0;34m(self, nodelist, cell_name, interactivity, compiler, result)\u001b[0m\n\u001b[1;32m   3346\u001b[0m                         \u001b[0masy\u001b[0m \u001b[0;34m=\u001b[0m \u001b[0mcompare\u001b[0m\u001b[0;34m(\u001b[0m\u001b[0mcode\u001b[0m\u001b[0;34m)\u001b[0m\u001b[0;34m\u001b[0m\u001b[0;34m\u001b[0m\u001b[0m\n\u001b[0;32m-> 3347\u001b[0;31m                     \u001b[0;32mif\u001b[0m \u001b[0;34m(\u001b[0m\u001b[0;32mawait\u001b[0m \u001b[0mself\u001b[0m\u001b[0;34m.\u001b[0m\u001b[0mrun_code\u001b[0m\u001b[0;34m(\u001b[0m\u001b[0mcode\u001b[0m\u001b[0;34m,\u001b[0m \u001b[0mresult\u001b[0m\u001b[0;34m,\u001b[0m  \u001b[0masync_\u001b[0m\u001b[0;34m=\u001b[0m\u001b[0masy\u001b[0m\u001b[0;34m)\u001b[0m\u001b[0;34m)\u001b[0m\u001b[0;34m:\u001b[0m\u001b[0;34m\u001b[0m\u001b[0;34m\u001b[0m\u001b[0m\n\u001b[0m\u001b[1;32m   3348\u001b[0m                         \u001b[0;32mreturn\u001b[0m \u001b[0;32mTrue\u001b[0m\u001b[0;34m\u001b[0m\u001b[0;34m\u001b[0m\u001b[0m\n",
      "    \u001b[0;31m[... skipping hidden 1 frame]\u001b[0m\n",
      "\u001b[0;32m~/anaconda3/envs/hzlc_clone/lib/python3.8/site-packages/IPython/core/interactiveshell.py\u001b[0m in \u001b[0;36mshowtraceback\u001b[0;34m(self, exc_tuple, filename, tb_offset, exception_only, running_compiled_code)\u001b[0m\n\u001b[1;32m   2055\u001b[0m                     \u001b[0;32mexcept\u001b[0m \u001b[0mException\u001b[0m\u001b[0;34m:\u001b[0m\u001b[0;34m\u001b[0m\u001b[0;34m\u001b[0m\u001b[0m\n\u001b[0;32m-> 2056\u001b[0;31m                         stb = self.InteractiveTB.structured_traceback(etype,\n\u001b[0m\u001b[1;32m   2057\u001b[0m                                             value, tb, tb_offset=tb_offset)\n",
      "\u001b[0;32m~/anaconda3/envs/hzlc_clone/lib/python3.8/site-packages/IPython/core/ultratb.py\u001b[0m in \u001b[0;36mstructured_traceback\u001b[0;34m(self, etype, value, tb, tb_offset, number_of_lines_of_context)\u001b[0m\n\u001b[1;32m   1366\u001b[0m             \u001b[0mself\u001b[0m\u001b[0;34m.\u001b[0m\u001b[0mtb\u001b[0m \u001b[0;34m=\u001b[0m \u001b[0mtb\u001b[0m\u001b[0;34m\u001b[0m\u001b[0;34m\u001b[0m\u001b[0m\n\u001b[0;32m-> 1367\u001b[0;31m         return FormattedTB.structured_traceback(\n\u001b[0m\u001b[1;32m   1368\u001b[0m             self, etype, value, tb, tb_offset, number_of_lines_of_context)\n",
      "\u001b[0;32m~/anaconda3/envs/hzlc_clone/lib/python3.8/site-packages/IPython/core/ultratb.py\u001b[0m in \u001b[0;36mstructured_traceback\u001b[0;34m(self, etype, value, tb, tb_offset, number_of_lines_of_context)\u001b[0m\n\u001b[1;32m   1266\u001b[0m             \u001b[0;31m# Verbose modes need a full traceback\u001b[0m\u001b[0;34m\u001b[0m\u001b[0;34m\u001b[0m\u001b[0;34m\u001b[0m\u001b[0m\n\u001b[0;32m-> 1267\u001b[0;31m             return VerboseTB.structured_traceback(\n\u001b[0m\u001b[1;32m   1268\u001b[0m                 \u001b[0mself\u001b[0m\u001b[0;34m,\u001b[0m \u001b[0metype\u001b[0m\u001b[0;34m,\u001b[0m \u001b[0mvalue\u001b[0m\u001b[0;34m,\u001b[0m \u001b[0mtb\u001b[0m\u001b[0;34m,\u001b[0m \u001b[0mtb_offset\u001b[0m\u001b[0;34m,\u001b[0m \u001b[0mnumber_of_lines_of_context\u001b[0m\u001b[0;34m\u001b[0m\u001b[0;34m\u001b[0m\u001b[0m\n",
      "\u001b[0;32m~/anaconda3/envs/hzlc_clone/lib/python3.8/site-packages/IPython/core/ultratb.py\u001b[0m in \u001b[0;36mstructured_traceback\u001b[0;34m(self, etype, evalue, etb, tb_offset, number_of_lines_of_context)\u001b[0m\n\u001b[1;32m   1123\u001b[0m \u001b[0;34m\u001b[0m\u001b[0m\n\u001b[0;32m-> 1124\u001b[0;31m         formatted_exception = self.format_exception_as_a_whole(etype, evalue, etb, number_of_lines_of_context,\n\u001b[0m\u001b[1;32m   1125\u001b[0m                                                                tb_offset)\n",
      "\u001b[0;32m~/anaconda3/envs/hzlc_clone/lib/python3.8/site-packages/IPython/core/ultratb.py\u001b[0m in \u001b[0;36mformat_exception_as_a_whole\u001b[0;34m(self, etype, evalue, etb, number_of_lines_of_context, tb_offset)\u001b[0m\n\u001b[1;32m   1081\u001b[0m \u001b[0;34m\u001b[0m\u001b[0m\n\u001b[0;32m-> 1082\u001b[0;31m         \u001b[0mlast_unique\u001b[0m\u001b[0;34m,\u001b[0m \u001b[0mrecursion_repeat\u001b[0m \u001b[0;34m=\u001b[0m \u001b[0mfind_recursion\u001b[0m\u001b[0;34m(\u001b[0m\u001b[0morig_etype\u001b[0m\u001b[0;34m,\u001b[0m \u001b[0mevalue\u001b[0m\u001b[0;34m,\u001b[0m \u001b[0mrecords\u001b[0m\u001b[0;34m)\u001b[0m\u001b[0;34m\u001b[0m\u001b[0;34m\u001b[0m\u001b[0m\n\u001b[0m\u001b[1;32m   1083\u001b[0m \u001b[0;34m\u001b[0m\u001b[0m\n",
      "\u001b[0;32m~/anaconda3/envs/hzlc_clone/lib/python3.8/site-packages/IPython/core/ultratb.py\u001b[0m in \u001b[0;36mfind_recursion\u001b[0;34m(etype, value, records)\u001b[0m\n\u001b[1;32m    381\u001b[0m     \u001b[0;32mif\u001b[0m \u001b[0;32mnot\u001b[0m \u001b[0mis_recursion_error\u001b[0m\u001b[0;34m(\u001b[0m\u001b[0metype\u001b[0m\u001b[0;34m,\u001b[0m \u001b[0mvalue\u001b[0m\u001b[0;34m,\u001b[0m \u001b[0mrecords\u001b[0m\u001b[0;34m)\u001b[0m\u001b[0;34m:\u001b[0m\u001b[0;34m\u001b[0m\u001b[0;34m\u001b[0m\u001b[0m\n\u001b[0;32m--> 382\u001b[0;31m         \u001b[0;32mreturn\u001b[0m \u001b[0mlen\u001b[0m\u001b[0;34m(\u001b[0m\u001b[0mrecords\u001b[0m\u001b[0;34m)\u001b[0m\u001b[0;34m,\u001b[0m \u001b[0;36m0\u001b[0m\u001b[0;34m\u001b[0m\u001b[0;34m\u001b[0m\u001b[0m\n\u001b[0m\u001b[1;32m    383\u001b[0m \u001b[0;34m\u001b[0m\u001b[0m\n",
      "\u001b[0;31mTypeError\u001b[0m: object of type 'NoneType' has no len()",
      "\nDuring handling of the above exception, another exception occurred:\n",
      "\u001b[0;31mAttributeError\u001b[0m                            Traceback (most recent call last)",
      "\u001b[0;32m~/anaconda3/envs/hzlc_clone/lib/python3.8/site-packages/IPython/core/interactiveshell.py\u001b[0m in \u001b[0;36mshowtraceback\u001b[0;34m(self, exc_tuple, filename, tb_offset, exception_only, running_compiled_code)\u001b[0m\n\u001b[1;32m   2053\u001b[0m                         \u001b[0;31m# in the engines. This should return a list of strings.\u001b[0m\u001b[0;34m\u001b[0m\u001b[0;34m\u001b[0m\u001b[0;34m\u001b[0m\u001b[0m\n\u001b[0;32m-> 2054\u001b[0;31m                         \u001b[0mstb\u001b[0m \u001b[0;34m=\u001b[0m \u001b[0mvalue\u001b[0m\u001b[0;34m.\u001b[0m\u001b[0m_render_traceback_\u001b[0m\u001b[0;34m(\u001b[0m\u001b[0;34m)\u001b[0m\u001b[0;34m\u001b[0m\u001b[0;34m\u001b[0m\u001b[0m\n\u001b[0m\u001b[1;32m   2055\u001b[0m                     \u001b[0;32mexcept\u001b[0m \u001b[0mException\u001b[0m\u001b[0;34m:\u001b[0m\u001b[0;34m\u001b[0m\u001b[0;34m\u001b[0m\u001b[0m\n",
      "\u001b[0;31mAttributeError\u001b[0m: 'TypeError' object has no attribute '_render_traceback_'",
      "\nDuring handling of the above exception, another exception occurred:\n",
      "\u001b[0;31mTypeError\u001b[0m                                 Traceback (most recent call last)",
      "\u001b[0;32m~/anaconda3/envs/hzlc_clone/lib/python3.8/site-packages/IPython/core/async_helpers.py\u001b[0m in \u001b[0;36m_pseudo_sync_runner\u001b[0;34m(coro)\u001b[0m\n\u001b[1;32m     66\u001b[0m     \"\"\"\n\u001b[1;32m     67\u001b[0m     \u001b[0;32mtry\u001b[0m\u001b[0;34m:\u001b[0m\u001b[0;34m\u001b[0m\u001b[0;34m\u001b[0m\u001b[0m\n\u001b[0;32m---> 68\u001b[0;31m         \u001b[0mcoro\u001b[0m\u001b[0;34m.\u001b[0m\u001b[0msend\u001b[0m\u001b[0;34m(\u001b[0m\u001b[0;32mNone\u001b[0m\u001b[0;34m)\u001b[0m\u001b[0;34m\u001b[0m\u001b[0;34m\u001b[0m\u001b[0m\n\u001b[0m\u001b[1;32m     69\u001b[0m     \u001b[0;32mexcept\u001b[0m \u001b[0mStopIteration\u001b[0m \u001b[0;32mas\u001b[0m \u001b[0mexc\u001b[0m\u001b[0;34m:\u001b[0m\u001b[0;34m\u001b[0m\u001b[0;34m\u001b[0m\u001b[0m\n\u001b[1;32m     70\u001b[0m         \u001b[0;32mreturn\u001b[0m \u001b[0mexc\u001b[0m\u001b[0;34m.\u001b[0m\u001b[0mvalue\u001b[0m\u001b[0;34m\u001b[0m\u001b[0;34m\u001b[0m\u001b[0m\n",
      "\u001b[0;32m~/anaconda3/envs/hzlc_clone/lib/python3.8/site-packages/IPython/core/interactiveshell.py\u001b[0m in \u001b[0;36mrun_cell_async\u001b[0;34m(self, raw_cell, store_history, silent, shell_futures, transformed_cell, preprocessing_exc_tuple)\u001b[0m\n\u001b[1;32m   3153\u001b[0m                     \u001b[0minteractivity\u001b[0m \u001b[0;34m=\u001b[0m \u001b[0;34m'async'\u001b[0m\u001b[0;34m\u001b[0m\u001b[0;34m\u001b[0m\u001b[0m\n\u001b[1;32m   3154\u001b[0m \u001b[0;34m\u001b[0m\u001b[0m\n\u001b[0;32m-> 3155\u001b[0;31m                 has_raised = await self.run_ast_nodes(code_ast.body, cell_name,\n\u001b[0m\u001b[1;32m   3156\u001b[0m                        interactivity=interactivity, compiler=compiler, result=result)\n\u001b[1;32m   3157\u001b[0m \u001b[0;34m\u001b[0m\u001b[0m\n",
      "\u001b[0;32m~/anaconda3/envs/hzlc_clone/lib/python3.8/site-packages/IPython/core/interactiveshell.py\u001b[0m in \u001b[0;36mrun_ast_nodes\u001b[0;34m(self, nodelist, cell_name, interactivity, compiler, result)\u001b[0m\n\u001b[1;32m   3364\u001b[0m             \u001b[0;32mif\u001b[0m \u001b[0mresult\u001b[0m\u001b[0;34m:\u001b[0m\u001b[0;34m\u001b[0m\u001b[0;34m\u001b[0m\u001b[0m\n\u001b[1;32m   3365\u001b[0m                 \u001b[0mresult\u001b[0m\u001b[0;34m.\u001b[0m\u001b[0merror_before_exec\u001b[0m \u001b[0;34m=\u001b[0m \u001b[0msys\u001b[0m\u001b[0;34m.\u001b[0m\u001b[0mexc_info\u001b[0m\u001b[0;34m(\u001b[0m\u001b[0;34m)\u001b[0m\u001b[0;34m[\u001b[0m\u001b[0;36m1\u001b[0m\u001b[0;34m]\u001b[0m\u001b[0;34m\u001b[0m\u001b[0;34m\u001b[0m\u001b[0m\n\u001b[0;32m-> 3366\u001b[0;31m             \u001b[0mself\u001b[0m\u001b[0;34m.\u001b[0m\u001b[0mshowtraceback\u001b[0m\u001b[0;34m(\u001b[0m\u001b[0;34m)\u001b[0m\u001b[0;34m\u001b[0m\u001b[0;34m\u001b[0m\u001b[0m\n\u001b[0m\u001b[1;32m   3367\u001b[0m             \u001b[0;32mreturn\u001b[0m \u001b[0;32mTrue\u001b[0m\u001b[0;34m\u001b[0m\u001b[0;34m\u001b[0m\u001b[0m\n\u001b[1;32m   3368\u001b[0m \u001b[0;34m\u001b[0m\u001b[0m\n",
      "\u001b[0;32m~/anaconda3/envs/hzlc_clone/lib/python3.8/site-packages/IPython/core/interactiveshell.py\u001b[0m in \u001b[0;36mshowtraceback\u001b[0;34m(self, exc_tuple, filename, tb_offset, exception_only, running_compiled_code)\u001b[0m\n\u001b[1;32m   2054\u001b[0m                         \u001b[0mstb\u001b[0m \u001b[0;34m=\u001b[0m \u001b[0mvalue\u001b[0m\u001b[0;34m.\u001b[0m\u001b[0m_render_traceback_\u001b[0m\u001b[0;34m(\u001b[0m\u001b[0;34m)\u001b[0m\u001b[0;34m\u001b[0m\u001b[0;34m\u001b[0m\u001b[0m\n\u001b[1;32m   2055\u001b[0m                     \u001b[0;32mexcept\u001b[0m \u001b[0mException\u001b[0m\u001b[0;34m:\u001b[0m\u001b[0;34m\u001b[0m\u001b[0;34m\u001b[0m\u001b[0m\n\u001b[0;32m-> 2056\u001b[0;31m                         stb = self.InteractiveTB.structured_traceback(etype,\n\u001b[0m\u001b[1;32m   2057\u001b[0m                                             value, tb, tb_offset=tb_offset)\n\u001b[1;32m   2058\u001b[0m \u001b[0;34m\u001b[0m\u001b[0m\n",
      "\u001b[0;32m~/anaconda3/envs/hzlc_clone/lib/python3.8/site-packages/IPython/core/ultratb.py\u001b[0m in \u001b[0;36mstructured_traceback\u001b[0;34m(self, etype, value, tb, tb_offset, number_of_lines_of_context)\u001b[0m\n\u001b[1;32m   1365\u001b[0m         \u001b[0;32melse\u001b[0m\u001b[0;34m:\u001b[0m\u001b[0;34m\u001b[0m\u001b[0;34m\u001b[0m\u001b[0m\n\u001b[1;32m   1366\u001b[0m             \u001b[0mself\u001b[0m\u001b[0;34m.\u001b[0m\u001b[0mtb\u001b[0m \u001b[0;34m=\u001b[0m \u001b[0mtb\u001b[0m\u001b[0;34m\u001b[0m\u001b[0;34m\u001b[0m\u001b[0m\n\u001b[0;32m-> 1367\u001b[0;31m         return FormattedTB.structured_traceback(\n\u001b[0m\u001b[1;32m   1368\u001b[0m             self, etype, value, tb, tb_offset, number_of_lines_of_context)\n\u001b[1;32m   1369\u001b[0m \u001b[0;34m\u001b[0m\u001b[0m\n",
      "\u001b[0;32m~/anaconda3/envs/hzlc_clone/lib/python3.8/site-packages/IPython/core/ultratb.py\u001b[0m in \u001b[0;36mstructured_traceback\u001b[0;34m(self, etype, value, tb, tb_offset, number_of_lines_of_context)\u001b[0m\n\u001b[1;32m   1265\u001b[0m         \u001b[0;32mif\u001b[0m \u001b[0mmode\u001b[0m \u001b[0;32min\u001b[0m \u001b[0mself\u001b[0m\u001b[0;34m.\u001b[0m\u001b[0mverbose_modes\u001b[0m\u001b[0;34m:\u001b[0m\u001b[0;34m\u001b[0m\u001b[0;34m\u001b[0m\u001b[0m\n\u001b[1;32m   1266\u001b[0m             \u001b[0;31m# Verbose modes need a full traceback\u001b[0m\u001b[0;34m\u001b[0m\u001b[0;34m\u001b[0m\u001b[0;34m\u001b[0m\u001b[0m\n\u001b[0;32m-> 1267\u001b[0;31m             return VerboseTB.structured_traceback(\n\u001b[0m\u001b[1;32m   1268\u001b[0m                 \u001b[0mself\u001b[0m\u001b[0;34m,\u001b[0m \u001b[0metype\u001b[0m\u001b[0;34m,\u001b[0m \u001b[0mvalue\u001b[0m\u001b[0;34m,\u001b[0m \u001b[0mtb\u001b[0m\u001b[0;34m,\u001b[0m \u001b[0mtb_offset\u001b[0m\u001b[0;34m,\u001b[0m \u001b[0mnumber_of_lines_of_context\u001b[0m\u001b[0;34m\u001b[0m\u001b[0;34m\u001b[0m\u001b[0m\n\u001b[1;32m   1269\u001b[0m             )\n",
      "\u001b[0;32m~/anaconda3/envs/hzlc_clone/lib/python3.8/site-packages/IPython/core/ultratb.py\u001b[0m in \u001b[0;36mstructured_traceback\u001b[0;34m(self, etype, evalue, etb, tb_offset, number_of_lines_of_context)\u001b[0m\n\u001b[1;32m   1122\u001b[0m         \u001b[0;34m\"\"\"Return a nice text document describing the traceback.\"\"\"\u001b[0m\u001b[0;34m\u001b[0m\u001b[0;34m\u001b[0m\u001b[0m\n\u001b[1;32m   1123\u001b[0m \u001b[0;34m\u001b[0m\u001b[0m\n\u001b[0;32m-> 1124\u001b[0;31m         formatted_exception = self.format_exception_as_a_whole(etype, evalue, etb, number_of_lines_of_context,\n\u001b[0m\u001b[1;32m   1125\u001b[0m                                                                tb_offset)\n\u001b[1;32m   1126\u001b[0m \u001b[0;34m\u001b[0m\u001b[0m\n",
      "\u001b[0;32m~/anaconda3/envs/hzlc_clone/lib/python3.8/site-packages/IPython/core/ultratb.py\u001b[0m in \u001b[0;36mformat_exception_as_a_whole\u001b[0;34m(self, etype, evalue, etb, number_of_lines_of_context, tb_offset)\u001b[0m\n\u001b[1;32m   1080\u001b[0m \u001b[0;34m\u001b[0m\u001b[0m\n\u001b[1;32m   1081\u001b[0m \u001b[0;34m\u001b[0m\u001b[0m\n\u001b[0;32m-> 1082\u001b[0;31m         \u001b[0mlast_unique\u001b[0m\u001b[0;34m,\u001b[0m \u001b[0mrecursion_repeat\u001b[0m \u001b[0;34m=\u001b[0m \u001b[0mfind_recursion\u001b[0m\u001b[0;34m(\u001b[0m\u001b[0morig_etype\u001b[0m\u001b[0;34m,\u001b[0m \u001b[0mevalue\u001b[0m\u001b[0;34m,\u001b[0m \u001b[0mrecords\u001b[0m\u001b[0;34m)\u001b[0m\u001b[0;34m\u001b[0m\u001b[0;34m\u001b[0m\u001b[0m\n\u001b[0m\u001b[1;32m   1083\u001b[0m \u001b[0;34m\u001b[0m\u001b[0m\n\u001b[1;32m   1084\u001b[0m         \u001b[0mframes\u001b[0m \u001b[0;34m=\u001b[0m \u001b[0mself\u001b[0m\u001b[0;34m.\u001b[0m\u001b[0mformat_records\u001b[0m\u001b[0;34m(\u001b[0m\u001b[0mrecords\u001b[0m\u001b[0;34m,\u001b[0m \u001b[0mlast_unique\u001b[0m\u001b[0;34m,\u001b[0m \u001b[0mrecursion_repeat\u001b[0m\u001b[0;34m)\u001b[0m\u001b[0;34m\u001b[0m\u001b[0;34m\u001b[0m\u001b[0m\n",
      "\u001b[0;32m~/anaconda3/envs/hzlc_clone/lib/python3.8/site-packages/IPython/core/ultratb.py\u001b[0m in \u001b[0;36mfind_recursion\u001b[0;34m(etype, value, records)\u001b[0m\n\u001b[1;32m    380\u001b[0m     \u001b[0;31m# first frame (from in to out) that looks different.\u001b[0m\u001b[0;34m\u001b[0m\u001b[0;34m\u001b[0m\u001b[0;34m\u001b[0m\u001b[0m\n\u001b[1;32m    381\u001b[0m     \u001b[0;32mif\u001b[0m \u001b[0;32mnot\u001b[0m \u001b[0mis_recursion_error\u001b[0m\u001b[0;34m(\u001b[0m\u001b[0metype\u001b[0m\u001b[0;34m,\u001b[0m \u001b[0mvalue\u001b[0m\u001b[0;34m,\u001b[0m \u001b[0mrecords\u001b[0m\u001b[0;34m)\u001b[0m\u001b[0;34m:\u001b[0m\u001b[0;34m\u001b[0m\u001b[0;34m\u001b[0m\u001b[0m\n\u001b[0;32m--> 382\u001b[0;31m         \u001b[0;32mreturn\u001b[0m \u001b[0mlen\u001b[0m\u001b[0;34m(\u001b[0m\u001b[0mrecords\u001b[0m\u001b[0;34m)\u001b[0m\u001b[0;34m,\u001b[0m \u001b[0;36m0\u001b[0m\u001b[0;34m\u001b[0m\u001b[0;34m\u001b[0m\u001b[0m\n\u001b[0m\u001b[1;32m    383\u001b[0m \u001b[0;34m\u001b[0m\u001b[0m\n\u001b[1;32m    384\u001b[0m     \u001b[0;31m# Select filename, lineno, func_name to track frames with\u001b[0m\u001b[0;34m\u001b[0m\u001b[0;34m\u001b[0m\u001b[0;34m\u001b[0m\u001b[0m\n",
      "\u001b[0;31mTypeError\u001b[0m: object of type 'NoneType' has no len()"
     ]
    }
   ],
   "source": [
    "import epsf_fit\n",
    "importlib.reload( epsf_fit)\n",
    "lim_vals = [0, 1400, -100, 700]\n",
    "\n",
    "x_target = pixel_targets [0][mask_hwmag ]\n",
    "y_target = pixel_targets [1][mask_hwmag ]\n",
    "dx, dy  = epsf_fit.main(image, x_target, y_target, lim_vals )"
   ]
  },
  {
   "cell_type": "code",
   "execution_count": null,
   "id": "712108ca",
   "metadata": {},
   "outputs": [],
   "source": [
    "\"\"\"\"\"\n",
    "lim_vals = [x_min, x_max, y_min, y_max]\n",
    "plt.figure(figsize=(20,10))\n",
    "plt.imshow(np.log10(image), vmin=0.2, extent=[x_min-0.5, x_max-0.5, y_max-0.5, y_min-0.5])\n",
    "plt.colorbar()\n",
    "#plt.ylim(y_min, y_max)\n",
    "#plt.xlim(x_min, x_max)\n",
    "plt.scatter( pixel_targets[0],  pixel_targets [1], s =5,color=\"r\")\n",
    "idx = 21\n",
    "x_cen = pixel_targets[0][mask_hwmag][idx]\n",
    "y_cen =  pixel_targets[1][mask_hwmag][idx]\n",
    "wd = 30\n",
    "plt.xlim(x_cen -wd, x_cen +wd)\n",
    "plt.ylim(y_cen -wd, y_cen +wd)\n",
    "\"\"\"\""
   ]
  },
  {
   "cell_type": "code",
   "execution_count": null,
   "id": "c7db0ae1",
   "metadata": {},
   "outputs": [],
   "source": [
    "pixel_targets[0] + np.random.rand(2)[0]"
   ]
  },
  {
   "cell_type": "code",
   "execution_count": 9,
   "id": "6c03ae48",
   "metadata": {},
   "outputs": [
    {
     "name": "stdout",
     "output_type": "stream",
     "text": [
      "ERROR! Session/line number was not unique in database. History logging moved to new session 324\n",
      "CPU times: user 2.37 s, sys: 4.54 ms, total: 2.38 s\n",
      "Wall time: 2.38 s\n"
     ]
    }
   ],
   "source": [
    " %%time\n",
    "importlib.reload( epsf_fit)\n",
    "importlib.reload(mk)\n",
    "displace_amp = 3\n",
    "displace = 2 * displace_amp * np.random.rand(2) - displace_amp\n",
    "pixel_targets_mov = np.array([pixel_targets[0] + displace [0], pixel_targets[1] + displace[1]])\n",
    "image = mk.make_image(pixel_targets_mov, hwmag_targets, gauss_conv)\n"
   ]
  },
  {
   "cell_type": "code",
   "execution_count": 10,
   "id": "15bdd6d4",
   "metadata": {},
   "outputs": [
    {
     "name": "stderr",
     "output_type": "stream",
     "text": [
      "WARNING: The star at (842.5901758448265, 511.0261052620607) cannot be fit because its fitting region extends beyond the star cutout image. [photutils.psf.epsf]\n",
      "WARNING:astropy:The star at (842.5901758448265, 511.0261052620607) cannot be fit because its fitting region extends beyond the star cutout image.\n",
      "WARNING: The star at (842.5901758448265, 511.0261052620607) cannot be fit because its fitting region extends beyond the star cutout image. [photutils.psf.epsf]\n",
      "WARNING:astropy:The star at (842.5901758448265, 511.0261052620607) cannot be fit because its fitting region extends beyond the star cutout image.\n",
      "WARNING: The star at (570.2330862737582, 481.23602896810814) cannot be fit because its fitting region extends beyond the star cutout image. [photutils.psf.epsf]\n",
      "WARNING:astropy:The star at (570.2330862737582, 481.23602896810814) cannot be fit because its fitting region extends beyond the star cutout image.\n",
      "WARNING: The star at (992.4388119098625, 332.48021167253745) cannot be fit because its fitting region extends beyond the star cutout image. [photutils.psf.epsf]\n",
      "WARNING:astropy:The star at (992.4388119098625, 332.48021167253745) cannot be fit because its fitting region extends beyond the star cutout image.\n",
      "WARNING: The star at (842.5901758448265, 511.0261052620607) cannot be fit because its fitting region extends beyond the star cutout image. [photutils.psf.epsf]\n",
      "WARNING:astropy:The star at (842.5901758448265, 511.0261052620607) cannot be fit because its fitting region extends beyond the star cutout image.\n",
      "WARNING: The star at (570.2330862737582, 481.23602896810814) cannot be fit because its fitting region extends beyond the star cutout image. [photutils.psf.epsf]\n",
      "WARNING:astropy:The star at (570.2330862737582, 481.23602896810814) cannot be fit because its fitting region extends beyond the star cutout image.\n",
      "WARNING: The star at (992.4388119098625, 332.48021167253745) cannot be fit because its fitting region extends beyond the star cutout image. [photutils.psf.epsf]\n",
      "WARNING:astropy:The star at (992.4388119098625, 332.48021167253745) cannot be fit because its fitting region extends beyond the star cutout image.\n",
      "WARNING: The star at (842.5901758448265, 511.0261052620607) cannot be fit because its fitting region extends beyond the star cutout image. [photutils.psf.epsf]\n",
      "WARNING:astropy:The star at (842.5901758448265, 511.0261052620607) cannot be fit because its fitting region extends beyond the star cutout image.\n",
      "WARNING: The star at (570.2330862737582, 481.23602896810814) cannot be fit because its fitting region extends beyond the star cutout image. [photutils.psf.epsf]\n",
      "WARNING:astropy:The star at (570.2330862737582, 481.23602896810814) cannot be fit because its fitting region extends beyond the star cutout image.\n",
      "WARNING: The star at (992.4388119098625, 332.48021167253745) cannot be fit because its fitting region extends beyond the star cutout image. [photutils.psf.epsf]\n",
      "WARNING:astropy:The star at (992.4388119098625, 332.48021167253745) cannot be fit because its fitting region extends beyond the star cutout image.\n",
      "WARNING: The star at (842.5901758448265, 511.0261052620607) cannot be fit because its fitting region extends beyond the star cutout image. [photutils.psf.epsf]\n",
      "WARNING:astropy:The star at (842.5901758448265, 511.0261052620607) cannot be fit because its fitting region extends beyond the star cutout image.\n",
      "WARNING: The star at (570.2330862737582, 481.23602896810814) cannot be fit because its fitting region extends beyond the star cutout image. [photutils.psf.epsf]\n",
      "WARNING:astropy:The star at (570.2330862737582, 481.23602896810814) cannot be fit because its fitting region extends beyond the star cutout image.\n",
      "WARNING: The star at (992.4388119098625, 332.48021167253745) cannot be fit because its fitting region extends beyond the star cutout image. [photutils.psf.epsf]\n",
      "WARNING:astropy:The star at (992.4388119098625, 332.48021167253745) cannot be fit because its fitting region extends beyond the star cutout image.\n",
      "WARNING: The star at (842.5901758448265, 511.0261052620607) cannot be fit because its fitting region extends beyond the star cutout image. [photutils.psf.epsf]\n",
      "WARNING:astropy:The star at (842.5901758448265, 511.0261052620607) cannot be fit because its fitting region extends beyond the star cutout image.\n",
      "WARNING: The star at (570.2330862737582, 481.23602896810814) cannot be fit because its fitting region extends beyond the star cutout image. [photutils.psf.epsf]\n",
      "WARNING:astropy:The star at (570.2330862737582, 481.23602896810814) cannot be fit because its fitting region extends beyond the star cutout image.\n",
      "WARNING: The star at (992.4388119098625, 332.48021167253745) cannot be fit because its fitting region extends beyond the star cutout image. [photutils.psf.epsf]\n",
      "WARNING:astropy:The star at (992.4388119098625, 332.48021167253745) cannot be fit because its fitting region extends beyond the star cutout image.\n",
      "WARNING: The star at (842.5901758448265, 511.0261052620607) cannot be fit because its fitting region extends beyond the star cutout image. [photutils.psf.epsf]\n",
      "WARNING:astropy:The star at (842.5901758448265, 511.0261052620607) cannot be fit because its fitting region extends beyond the star cutout image.\n",
      "WARNING: The star at (570.2330862737582, 481.23602896810814) cannot be fit because its fitting region extends beyond the star cutout image. [photutils.psf.epsf]\n",
      "WARNING:astropy:The star at (570.2330862737582, 481.23602896810814) cannot be fit because its fitting region extends beyond the star cutout image.\n",
      "WARNING: The star at (992.4388119098625, 332.48021167253745) cannot be fit because its fitting region extends beyond the star cutout image. [photutils.psf.epsf]\n",
      "WARNING:astropy:The star at (992.4388119098625, 332.48021167253745) cannot be fit because its fitting region extends beyond the star cutout image.\n",
      "WARNING: The star at (842.5901758448265, 511.0261052620607) cannot be fit because its fitting region extends beyond the star cutout image. [photutils.psf.epsf]\n",
      "WARNING:astropy:The star at (842.5901758448265, 511.0261052620607) cannot be fit because its fitting region extends beyond the star cutout image.\n",
      "WARNING: The star at (570.2330862737582, 481.23602896810814) cannot be fit because its fitting region extends beyond the star cutout image. [photutils.psf.epsf]\n",
      "WARNING:astropy:The star at (570.2330862737582, 481.23602896810814) cannot be fit because its fitting region extends beyond the star cutout image.\n",
      "WARNING: The star at (992.4388119098625, 332.48021167253745) cannot be fit because its fitting region extends beyond the star cutout image. [photutils.psf.epsf]\n",
      "WARNING:astropy:The star at (992.4388119098625, 332.48021167253745) cannot be fit because its fitting region extends beyond the star cutout image.\n",
      "WARNING: The star at (842.5901758448265, 511.0261052620607) cannot be fit because its fitting region extends beyond the star cutout image. [photutils.psf.epsf]\n",
      "WARNING:astropy:The star at (842.5901758448265, 511.0261052620607) cannot be fit because its fitting region extends beyond the star cutout image.\n",
      "WARNING: The star at (570.2330862737582, 481.23602896810814) cannot be fit because its fitting region extends beyond the star cutout image. [photutils.psf.epsf]\n",
      "WARNING:astropy:The star at (570.2330862737582, 481.23602896810814) cannot be fit because its fitting region extends beyond the star cutout image.\n",
      "WARNING: The star at (992.4388119098625, 332.48021167253745) cannot be fit because its fitting region extends beyond the star cutout image. [photutils.psf.epsf]\n",
      "WARNING:astropy:The star at (992.4388119098625, 332.48021167253745) cannot be fit because its fitting region extends beyond the star cutout image.\n"
     ]
    },
    {
     "name": "stdout",
     "output_type": "stream",
     "text": [
      "CPU times: user 18.3 s, sys: 36.1 ms, total: 18.4 s\n",
      "Wall time: 18.3 s\n"
     ]
    }
   ],
   "source": [
    "%%time\n",
    "x_target = pixel_targets_mov [0][mask_hwmag ]\n",
    "y_target = pixel_targets_mov [1][mask_hwmag ]\n",
    "dx, dy  = epsf_fit.main(image, x_target, y_target, lim_vals )"
   ]
  },
  {
   "cell_type": "code",
   "execution_count": 11,
   "id": "f5bd89c2",
   "metadata": {},
   "outputs": [
    {
     "data": {
      "text/plain": [
       "<matplotlib.collections.PathCollection at 0x14e265607f70>"
      ]
     },
     "execution_count": 11,
     "metadata": {},
     "output_type": "execute_result"
    },
    {
     "data": {
      "image/png": "[encoded data removed]",
      "text/plain": [
       "<Figure size 432x288 with 1 Axes>"
      ]
     },
     "metadata": {
      "needs_background": "light"
     },
     "output_type": "display_data"
    }
   ],
   "source": [
    "plt.scatter(dx, dy)\n",
    "dr = (dx**2 + dy**2)**0.5\n",
    "mask = dr < 0.05\n",
    "plt.scatter(dx[mask], dy[mask])\n"
   ]
  },
  {
   "cell_type": "code",
   "execution_count": 12,
   "id": "93f6f788",
   "metadata": {},
   "outputs": [
    {
     "ename": "SyntaxError",
     "evalue": "invalid syntax (<ipython-input-12-34e4dfd953f9>, line 1)",
     "output_type": "error",
     "traceback": [
      "\u001b[0;36m  File \u001b[0;32m\"<ipython-input-12-34e4dfd953f9>\"\u001b[0;36m, line \u001b[0;32m1\u001b[0m\n\u001b[0;31m    1hr = 180 iters\u001b[0m\n\u001b[0m     ^\u001b[0m\n\u001b[0;31mSyntaxError\u001b[0m\u001b[0;31m:\u001b[0m invalid syntax\n"
     ]
    }
   ],
   "source": [
    "1hr = 180 iters\n",
    "24hr = 180 * 24"
   ]
  },
  {
   "cell_type": "code",
   "execution_count": 102,
   "id": "12710469",
   "metadata": {},
   "outputs": [
    {
     "data": {
      "text/plain": [
       "4320"
      ]
     },
     "execution_count": 102,
     "metadata": {},
     "output_type": "execute_result"
    }
   ],
   "source": [
    "180 * 24"
   ]
  },
  {
   "cell_type": "code",
   "execution_count": 103,
   "id": "0d424fff",
   "metadata": {},
   "outputs": [
    {
     "data": {
      "text/plain": [
       "43200"
      ]
     },
     "execution_count": 103,
     "metadata": {},
     "output_type": "execute_result"
    }
   ],
   "source": [
    "180 * 24 * 10"
   ]
  },
  {
   "cell_type": "code",
   "execution_count": null,
   "id": "db21db3d",
   "metadata": {},
   "outputs": [],
   "source": []
  }
 ],
 "metadata": {
  "kernelspec": {
   "display_name": "Python 3",
   "language": "python",
   "name": "python3"
  },
  "language_info": {
   "codemirror_mode": {
    "name": "ipython",
    "version": 3
   },
   "file_extension": ".py",
   "mimetype": "text/x-python",
   "name": "python",
   "nbconvert_exporter": "python",
   "pygments_lexer": "ipython3",
   "version": "3.8.8"
  }
 },
 "nbformat": 4,
 "nbformat_minor": 5
}
