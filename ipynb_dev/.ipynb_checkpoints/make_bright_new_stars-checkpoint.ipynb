{
 "cells": [
  {
   "cell_type": "code",
   "execution_count": 65,
   "id": "conceptual-morrison",
   "metadata": {},
   "outputs": [
    {
     "name": "stderr",
     "output_type": "stream",
     "text": [
      "/home/aizwms/anaconda3/envs/hzlc_clone/lib/python3.8/site-packages/pandas/core/computation/expressions.py:204: UserWarning: evaluating in Python space because the '*' operator is not supported by numexpr for the bool dtype, use '&' instead\n",
      "  warnings.warn(\n"
     ]
    }
   ],
   "source": [
    "from jscon import parameter_load\n",
    "import pandas as pd\n",
    "import numpy as np\n",
    "from jscon import make_image as mk\n",
    "from astropy.coordinates import SkyCoord  # High-level coordinates\n",
    "from astropy.coordinates import ICRS, Galactic, FK4, FK5  # Low-level frames\n",
    "from astropy.coordinates import Angle, Latitude, Longitude  # Angles\n",
    "import matplotlib.pyplot as plt\n",
    "\n",
    "file_catalog =\"../data/ibnorth.csv\"\n",
    "df = mk.get_catalog_info_for_making_stars(file_catalog)\n",
    "mask_hwmag = df[\"hwmag\"] < 14.5\n",
    "hwmag_targets = df[\"hwmag\"] \n",
    "Hmag =  df[\"Hmag\"].values\n",
    "Jmag =  df[\"Jmag\"] .values\n",
    "c = SkyCoord(df[\"ra\"].values, df[\"dec\"].values, frame=\"icrs\", unit=\"deg\")\n",
    "gal_l = c.galactic.l.deg\n",
    "gal_b = c.galactic.b.deg\n",
    "ra = df[\"ra\"].values * np.pi/180.0\n",
    "dec = df[\"dec\"].values * np.pi/180.0\n",
    "\n",
    "def make_bright_stars(gal_l_min, gal_l_max, gal_b_min, gal_b_max, gal_l, gal_b , hwmag, hwmag_max = 15, out_file = \"../data/new_stellar_catalog.csv\" ):\n",
    "    del_l = gal_l_max - gal_l_min\n",
    "    del_b = gal_b_max - gal_b_min    \n",
    "    del_l_target = np.max(gal_l) - np.min(gal_l) \n",
    "    del_b_target = np.max(gal_b) - np.min(gal_b) \n",
    "    n_star =int( len(hwmag) *  (del_l/del_l_target )*  (del_b/del_b_target ))\n",
    "    l_sample = np.random.rand(n_star) *del_l  + gal_l_min \n",
    "    b_sample = np.random.rand(n_star) *del_b  + gal_b_min \n",
    "    hwmag_sample = np.random.choice(hwmag, size= n_star)\n",
    "    c_new = SkyCoord(l_sample, b_sample, frame=\"galactic\", unit=\"deg\")\n",
    "    ra_new = c_new.icrs.ra.deg\n",
    "    dec_new = c_new.icrs.dec.deg\n",
    "    dic_new = {}\n",
    "    dic_new[\"ra\"] = ra_new\n",
    "    dic_new[\"dec\"] = dec_new\n",
    "    dic_new[\"hwmag\"] = hwmag_sample\n",
    "    df = pd.DataFrame(dic_new)\n",
    "    mask = df [\"hwmag\"] < 14.5\n",
    "    df_select_bright= df [ mask ]\n",
    "    df_select_bright.to_csv(out_file )\n",
    "    return df_select_bright\n"
   ]
  },
  {
   "cell_type": "code",
   "execution_count": 66,
   "id": "meaningful-ethiopia",
   "metadata": {},
   "outputs": [
    {
     "name": "stdout",
     "output_type": "stream",
     "text": [
      "0        14.196821\n",
      "1        14.459431\n",
      "2        14.361519\n",
      "62       11.581362\n",
      "63       12.152825\n",
      "           ...    \n",
      "15215    14.212345\n",
      "15218    14.486608\n",
      "15223    14.351335\n",
      "18648    12.187137\n",
      "19523    13.004047\n",
      "Name: hwmag, Length: 510, dtype: float64\n"
     ]
    },
    {
     "data": {
      "image/png": "[encoded data removed]",
      "text/plain": [
       "<Figure size 432x288 with 1 Axes>"
      ]
     },
     "metadata": {
      "needs_background": "light"
     },
     "output_type": "display_data"
    }
   ],
   "source": [
    "plt.scatter(gal_l, gal_b)\n",
    "print(hwmag_targets[mask_hwmag ])\n"
   ]
  },
  {
   "cell_type": "code",
   "execution_count": 86,
   "id": "adjustable-society",
   "metadata": {},
   "outputs": [],
   "source": [
    "gal_l_min = 179.85\n",
    "gal_l_max = 179.85 + 0.5\n",
    "gal_b_min = 0.55\n",
    "gal_b_max = 0.55 + 0.5\n",
    "df = make_bright_stars(gal_l_min, gal_l_max, gal_b_min, gal_b_max, gal_l, gal_b , hwmag_targets, out_file = \"../data/new_bright_stellar_catalog.csv\" )"
   ]
  },
  {
   "cell_type": "code",
   "execution_count": 87,
   "id": "dangerous-citizen",
   "metadata": {},
   "outputs": [
    {
     "data": {
      "text/html": [
       "<div>\n",
       "<style scoped>\n",
       "    .dataframe tbody tr th:only-of-type {\n",
       "        vertical-align: middle;\n",
       "    }\n",
       "\n",
       "    .dataframe tbody tr th {\n",
       "        vertical-align: top;\n",
       "    }\n",
       "\n",
       "    .dataframe thead th {\n",
       "        text-align: right;\n",
       "    }\n",
       "</style>\n",
       "<table border=\"1\" class=\"dataframe\">\n",
       "  <thead>\n",
       "    <tr style=\"text-align: right;\">\n",
       "      <th></th>\n",
       "      <th>ra</th>\n",
       "      <th>dec</th>\n",
       "      <th>hwmag</th>\n",
       "    </tr>\n",
       "  </thead>\n",
       "  <tbody>\n",
       "    <tr>\n",
       "      <th>6</th>\n",
       "      <td>87.029837</td>\n",
       "      <td>29.294172</td>\n",
       "      <td>14.217069</td>\n",
       "    </tr>\n",
       "    <tr>\n",
       "      <th>40</th>\n",
       "      <td>87.181666</td>\n",
       "      <td>29.264398</td>\n",
       "      <td>14.156590</td>\n",
       "    </tr>\n",
       "    <tr>\n",
       "      <th>47</th>\n",
       "      <td>87.068584</td>\n",
       "      <td>29.373722</td>\n",
       "      <td>14.069276</td>\n",
       "    </tr>\n",
       "    <tr>\n",
       "      <th>91</th>\n",
       "      <td>87.227669</td>\n",
       "      <td>29.488726</td>\n",
       "      <td>14.016935</td>\n",
       "    </tr>\n",
       "    <tr>\n",
       "      <th>119</th>\n",
       "      <td>87.010256</td>\n",
       "      <td>29.285766</td>\n",
       "      <td>14.332298</td>\n",
       "    </tr>\n",
       "    <tr>\n",
       "      <th>...</th>\n",
       "      <td>...</td>\n",
       "      <td>...</td>\n",
       "      <td>...</td>\n",
       "    </tr>\n",
       "    <tr>\n",
       "      <th>611369</th>\n",
       "      <td>87.020057</td>\n",
       "      <td>29.347195</td>\n",
       "      <td>12.468610</td>\n",
       "    </tr>\n",
       "    <tr>\n",
       "      <th>611408</th>\n",
       "      <td>86.979690</td>\n",
       "      <td>29.204972</td>\n",
       "      <td>12.608474</td>\n",
       "    </tr>\n",
       "    <tr>\n",
       "      <th>611414</th>\n",
       "      <td>87.272821</td>\n",
       "      <td>29.163564</td>\n",
       "      <td>14.109336</td>\n",
       "    </tr>\n",
       "    <tr>\n",
       "      <th>611439</th>\n",
       "      <td>87.084812</td>\n",
       "      <td>29.021039</td>\n",
       "      <td>13.267972</td>\n",
       "    </tr>\n",
       "    <tr>\n",
       "      <th>611491</th>\n",
       "      <td>87.230806</td>\n",
       "      <td>29.422753</td>\n",
       "      <td>12.758245</td>\n",
       "    </tr>\n",
       "  </tbody>\n",
       "</table>\n",
       "<p>14923 rows × 3 columns</p>\n",
       "</div>"
      ],
      "text/plain": [
       "               ra        dec      hwmag\n",
       "6       87.029837  29.294172  14.217069\n",
       "40      87.181666  29.264398  14.156590\n",
       "47      87.068584  29.373722  14.069276\n",
       "91      87.227669  29.488726  14.016935\n",
       "119     87.010256  29.285766  14.332298\n",
       "...           ...        ...        ...\n",
       "611369  87.020057  29.347195  12.468610\n",
       "611408  86.979690  29.204972  12.608474\n",
       "611414  87.272821  29.163564  14.109336\n",
       "611439  87.084812  29.021039  13.267972\n",
       "611491  87.230806  29.422753  12.758245\n",
       "\n",
       "[14923 rows x 3 columns]"
      ]
     },
     "execution_count": 87,
     "metadata": {},
     "output_type": "execute_result"
    }
   ],
   "source": [
    "df"
   ]
  },
  {
   "cell_type": "code",
   "execution_count": null,
   "id": "associate-gabriel",
   "metadata": {},
   "outputs": [],
   "source": []
  }
 ],
 "metadata": {
  "kernelspec": {
   "display_name": "Python 3",
   "language": "python",
   "name": "python3"
  },
  "language_info": {
   "codemirror_mode": {
    "name": "ipython",
    "version": 3
   },
   "file_extension": ".py",
   "mimetype": "text/x-python",
   "name": "python",
   "nbconvert_exporter": "python",
   "pygments_lexer": "ipython3",
   "version": "3.8.8"
  }
 },
 "nbformat": 4,
 "nbformat_minor": 5
}
