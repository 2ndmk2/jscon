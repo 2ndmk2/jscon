{
 "cells": [
  {
   "cell_type": "code",
   "execution_count": 1,
   "id": "starting-basketball",
   "metadata": {},
   "outputs": [
    {
     "name": "stdout",
     "output_type": "stream",
     "text": [
      "nohup python run_w_astrometry.py --par /home/aizwms/jasmine/jasmin_git/jscon/params/pixel_change/para_0.3.dat & \n",
      "nohup python run_w_astrometry.py --par /home/aizwms/jasmine/jasmin_git/jscon/params/pixel_change/para_0.4.dat & \n",
      "nohup python run_w_astrometry.py --par /home/aizwms/jasmine/jasmin_git/jscon/params/pixel_change/para_0.5.dat & \n",
      "nohup python run_w_astrometry.py --par /home/aizwms/jasmine/jasmin_git/jscon/params/pixel_change/para_0.6.dat & \n",
      "nohup python run_w_astrometry.py --par /home/aizwms/jasmine/jasmin_git/jscon/params/pixel_change/para_0.7.dat & \n",
      "nohup python run_w_astrometry.py --par /home/aizwms/jasmine/jasmin_git/jscon/params/pixel_change/para_0.8.dat & \n",
      "nohup python run_w_astrometry.py --par /home/aizwms/jasmine/jasmin_git/jscon/params/pixel_change/para_0.9.dat & \n",
      "nohup python run_w_astrometry.py --par /home/aizwms/jasmine/jasmin_git/jscon/params/pixel_change/para_1.0.dat & \n"
     ]
    }
   ],
   "source": [
    "from jscon import parameter_load\n",
    "import numpy as np\n",
    "\n",
    "def write_file(dic, filename):\n",
    "    file = open(filename, \"w\")\n",
    "    for name in dic:\n",
    "        file.write(\"%s %s \\n\" % (name, dic[name]))\n",
    "    file.close()\n",
    "\n",
    "file_name = \"/home/aizwms/jasmine/jasmin_git/jscon/params/pixel_change/para.dat\"\n",
    "dic_params = parameter_load.load_params(file_name )\n",
    "pix_arcsec_arr = np.arange(0.3, 1.1, 0.1)\n",
    "for (i, pix_scale) in enumerate(pix_arcsec_arr):\n",
    "    file_name = \"/home/aizwms/jasmine/jasmin_git/jscon/params/pixel_change/para_%.1f.dat\" % pix_scale\n",
    "    dic_params[\"pix_arcsec\"] = \"%.1f\" % pix_arcsec_arr[i]\n",
    "    dic_params[\"n_core\"] = \"%d\" % 5\n",
    "    dic_params[\"time_end\"] = \"2028.001\"\n",
    "    dic_params[\"time_sample_num\"] = \"%d\" % 100\n",
    "    dic_params[\"out_folder\"] = \"/home/aizwms/jasmine/jasmin_git/jscon/result/pixel_change/out%.1f\" % pix_scale\n",
    "    dic_params['xmax'] = \"2000\"\n",
    "    dic_params['ymax'] = \"1200\"\n",
    "    dic_params['sky_dir_l'] = 179.85\n",
    "    dic_params[\"catalog\"] =  '../data/new_stellar_catalog.csv'\n",
    "    write_file(dic_params, file_name)\n",
    "    print(\"nohup python run_w_astrometry.py --par /home/aizwms/jasmine/jasmin_git/jscon/params/pixel_change/para_%.1f.dat & \" % pix_scale )"
   ]
  },
  {
   "cell_type": "code",
   "execution_count": 27,
   "id": "tired-bandwidth",
   "metadata": {},
   "outputs": [
    {
     "data": {
      "text/plain": [
       "{'n_core': '5',\n",
       " 'diameter': 0.34,\n",
       " 'lambda_now': 1.2,\n",
       " 'sigma_ace': 0.3,\n",
       " 'pix_arcsec': '1.0',\n",
       " 'time_ref': 2028.0,\n",
       " 'time_start': 2028.0,\n",
       " 'time_end': '2028.001',\n",
       " 'time_sample_num': '900',\n",
       " 'sky_dir_l': 359.85,\n",
       " 'sky_dir_b': 0.54,\n",
       " 'xmax': '2000',\n",
       " 'ymax': '1200',\n",
       " 'catalog': '../data/ibnorth.csv',\n",
       " 'out_folder': '/home/aizwms/jasmine/jasmin_git/jscon/result/pixel_change/out1.0',\n",
       " 'ext_size': 12.0}"
      ]
     },
     "execution_count": 27,
     "metadata": {},
     "output_type": "execute_result"
    }
   ],
   "source": [
    "dic_params\n"
   ]
  },
  {
   "cell_type": "code",
   "execution_count": null,
   "id": "altered-suicide",
   "metadata": {},
   "outputs": [],
   "source": []
  }
 ],
 "metadata": {
  "kernelspec": {
   "display_name": "Python 3",
   "language": "python",
   "name": "python3"
  },
  "language_info": {
   "codemirror_mode": {
    "name": "ipython",
    "version": 3
   },
   "file_extension": ".py",
   "mimetype": "text/x-python",
   "name": "python",
   "nbconvert_exporter": "python",
   "pygments_lexer": "ipython3",
   "version": "3.8.8"
  }
 },
 "nbformat": 4,
 "nbformat_minor": 5
}
