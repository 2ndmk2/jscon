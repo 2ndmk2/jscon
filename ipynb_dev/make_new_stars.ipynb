{
 "cells": [
  {
   "cell_type": "code",
   "execution_count": 8,
   "id": "conceptual-morrison",
   "metadata": {},
   "outputs": [],
   "source": [
    "import numpy as np\n",
    "import matplotlib.pyplot as plt\n",
    "from astropy.wcs import WCS\n",
    "import pandas as pd\n",
    "import matplotlib.pyplot as plt\n",
    "from astropy.coordinates import SkyCoord  # High-level coordinates\n",
    "from astropy.coordinates import ICRS, Galactic, FK4, FK5  # Low-level frames\n",
    "from astropy.coordinates import Angle, Latitude, Longitude  # Angles\n",
    "import numpy as np\n",
    "import astropy.units as u\n",
    "from jscon import make_image as mk\n",
    "from jscon import parameter_load\n",
    "import scipy.integrate as integrate\n",
    "from scipy import interpolate\n",
    "import importlib\n",
    "importlib.reload(mk)\n",
    "\n",
    "para_file = \"../params/para_yajiri.dat\"\n",
    "dic_params = parameter_load.load_params(para_file )\n",
    "n_core = int(dic_params[\"n_core\"])\n",
    "diameter = dic_params[\"diameter\"] \n",
    "lambda_now = dic_params[\"lambda_now\"]* 10**-6\n",
    "sigma_ace = dic_params[\"sigma_ace\"]\n",
    "pix_arcsec = dic_params[\"pix_arcsec\"]                  \n",
    "time_ref = dic_params[\"time_ref\"]   \n",
    "time_start = dic_params[\"time_start\"]  \n",
    "time_end = dic_params[\"time_end\"]  \n",
    "time_sample_num = dic_params[\"time_sample_num\"]  \n",
    "sky_dir_l = dic_params[\"sky_dir_l\"] - 180\n",
    "sky_dir_b = dic_params[\"sky_dir_b\"]  \n",
    "xmax = int(dic_params[\"xmax\"] )\n",
    "ymax = int(dic_params[\"ymax\"] )\n",
    "file_catalog = str(dic_params[\"catalog\"])\n",
    "ext_size = int(dic_params[\"ext_size\"])"
   ]
  },
  {
   "cell_type": "code",
   "execution_count": 12,
   "id": "therapeutic-socket",
   "metadata": {},
   "outputs": [
    {
     "name": "stderr",
     "output_type": "stream",
     "text": [
      "/home/aizwms/anaconda3/envs/hzlc_clone/lib/python3.8/site-packages/pandas/core/computation/expressions.py:204: UserWarning: evaluating in Python space because the '*' operator is not supported by numexpr for the bool dtype, use '&' instead\n",
      "  warnings.warn(\n"
     ]
    }
   ],
   "source": [
    "df = mk.get_catalog_info_for_making_stars(file_catalog)\n",
    "mask_hwmag = df[\"hwmag\"] < 14.5\n",
    "hwmag_targets = df[\"hwmag\"] \n",
    "c = SkyCoord(df[\"ra\"].values, df[\"dec\"].values, frame=\"icrs\", unit=\"deg\")\n",
    "gal_l = c.galactic.l.deg-180\n",
    "gal_b = c.galactic.b.deg\n",
    "hwmag = df[\"hwmag\"]\n"
   ]
  },
  {
   "cell_type": "code",
   "execution_count": 13,
   "id": "adjustable-society",
   "metadata": {},
   "outputs": [
    {
     "data": {
      "text/html": [
       "<div>\n",
       "<style scoped>\n",
       "    .dataframe tbody tr th:only-of-type {\n",
       "        vertical-align: middle;\n",
       "    }\n",
       "\n",
       "    .dataframe tbody tr th {\n",
       "        vertical-align: top;\n",
       "    }\n",
       "\n",
       "    .dataframe thead th {\n",
       "        text-align: right;\n",
       "    }\n",
       "</style>\n",
       "<table border=\"1\" class=\"dataframe\">\n",
       "  <thead>\n",
       "    <tr style=\"text-align: right;\">\n",
       "      <th></th>\n",
       "      <th>ra</th>\n",
       "      <th>dec</th>\n",
       "      <th>hwmag</th>\n",
       "    </tr>\n",
       "  </thead>\n",
       "  <tbody>\n",
       "    <tr>\n",
       "      <th>0</th>\n",
       "      <td>87.310747</td>\n",
       "      <td>29.488333</td>\n",
       "      <td>19.194734</td>\n",
       "    </tr>\n",
       "    <tr>\n",
       "      <th>1</th>\n",
       "      <td>88.921616</td>\n",
       "      <td>29.966849</td>\n",
       "      <td>18.015009</td>\n",
       "    </tr>\n",
       "    <tr>\n",
       "      <th>2</th>\n",
       "      <td>88.727654</td>\n",
       "      <td>28.899903</td>\n",
       "      <td>18.686496</td>\n",
       "    </tr>\n",
       "    <tr>\n",
       "      <th>3</th>\n",
       "      <td>87.381705</td>\n",
       "      <td>29.424832</td>\n",
       "      <td>19.317541</td>\n",
       "    </tr>\n",
       "    <tr>\n",
       "      <th>4</th>\n",
       "      <td>88.010574</td>\n",
       "      <td>28.442622</td>\n",
       "      <td>16.692639</td>\n",
       "    </tr>\n",
       "    <tr>\n",
       "      <th>...</th>\n",
       "      <td>...</td>\n",
       "      <td>...</td>\n",
       "      <td>...</td>\n",
       "    </tr>\n",
       "    <tr>\n",
       "      <th>9783976</th>\n",
       "      <td>89.823236</td>\n",
       "      <td>28.833024</td>\n",
       "      <td>18.870264</td>\n",
       "    </tr>\n",
       "    <tr>\n",
       "      <th>9783977</th>\n",
       "      <td>88.071170</td>\n",
       "      <td>27.857430</td>\n",
       "      <td>14.655259</td>\n",
       "    </tr>\n",
       "    <tr>\n",
       "      <th>9783978</th>\n",
       "      <td>88.022789</td>\n",
       "      <td>28.784690</td>\n",
       "      <td>17.533071</td>\n",
       "    </tr>\n",
       "    <tr>\n",
       "      <th>9783979</th>\n",
       "      <td>89.001961</td>\n",
       "      <td>28.500003</td>\n",
       "      <td>15.781739</td>\n",
       "    </tr>\n",
       "    <tr>\n",
       "      <th>9783980</th>\n",
       "      <td>87.936919</td>\n",
       "      <td>29.835853</td>\n",
       "      <td>18.781265</td>\n",
       "    </tr>\n",
       "  </tbody>\n",
       "</table>\n",
       "<p>9783981 rows × 3 columns</p>\n",
       "</div>"
      ],
      "text/plain": [
       "                ra        dec      hwmag\n",
       "0        87.310747  29.488333  19.194734\n",
       "1        88.921616  29.966849  18.015009\n",
       "2        88.727654  28.899903  18.686496\n",
       "3        87.381705  29.424832  19.317541\n",
       "4        88.010574  28.442622  16.692639\n",
       "...            ...        ...        ...\n",
       "9783976  89.823236  28.833024  18.870264\n",
       "9783977  88.071170  27.857430  14.655259\n",
       "9783978  88.022789  28.784690  17.533071\n",
       "9783979  89.001961  28.500003  15.781739\n",
       "9783980  87.936919  29.835853  18.781265\n",
       "\n",
       "[9783981 rows x 3 columns]"
      ]
     },
     "execution_count": 13,
     "metadata": {},
     "output_type": "execute_result"
    }
   ],
   "source": [
    "gal_l_min = sky_dir_l\n",
    "gal_l_max = sky_dir_l +2\n",
    "gal_b_min = sky_dir_b\n",
    "gal_b_max =sky_dir_b + 2\n",
    "\n",
    "make_new_stars(gal_l_min, gal_l_max, gal_b_min, gal_b_max, \\\n",
    "               gal_l, gal_b , hwmag, out_file = \"./stellar_catalog.csv\")\n",
    "\n"
   ]
  },
  {
   "cell_type": "code",
   "execution_count": 5,
   "id": "later-inspector",
   "metadata": {},
   "outputs": [
    {
     "data": {
      "text/plain": [
       "<matplotlib.collections.PathCollection at 0x14e9198eb850>"
      ]
     },
     "execution_count": 5,
     "metadata": {},
     "output_type": "execute_result"
    },
    {
     "data": {
      "image/png": "[encoded data removed]",
      "text/plain": [
       "<Figure size 432x288 with 1 Axes>"
      ]
     },
     "metadata": {
      "needs_background": "light"
     },
     "output_type": "display_data"
    }
   ],
   "source": [
    "plt.scatter(gal_l, gal_b)"
   ]
  },
  {
   "cell_type": "code",
   "execution_count": null,
   "id": "acting-greene",
   "metadata": {},
   "outputs": [],
   "source": []
  }
 ],
 "metadata": {
  "kernelspec": {
   "display_name": "Python 3",
   "language": "python",
   "name": "python3"
  },
  "language_info": {
   "codemirror_mode": {
    "name": "ipython",
    "version": 3
   },
   "file_extension": ".py",
   "mimetype": "text/x-python",
   "name": "python",
   "nbconvert_exporter": "python",
   "pygments_lexer": "ipython3",
   "version": "3.8.8"
  }
 },
 "nbformat": 4,
 "nbformat_minor": 5
}
