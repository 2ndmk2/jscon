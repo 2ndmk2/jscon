{
 "cells": [
  {
   "cell_type": "code",
   "execution_count": 9,
   "id": "228ba073",
   "metadata": {},
   "outputs": [],
   "source": [
    "import numpy as np\n",
    "from jscon import make_image as mk\n",
    "import os\n",
    "from scipy import interpolate\n",
    "import matplotlib.pyplot as plt\n",
    "\n",
    "d = 0.34 ## m\n",
    "lambda_now = 1.2 * 10**-6\n",
    "arc_rad = 4.84814e-6\n",
    "sigma_ace = 0.0\n",
    "pix_arcsec = 0.4                    \n",
    "time_ref = 2028\n",
    "time_start = 2028\n",
    "time_end = 2030\n",
    "n_sample = 7200\n",
    "sky_dir_l = 359.85\n",
    "sky_dir_b = 0.54    \n",
    "xmin, xmax, ymin, ymax = 0, 1400, -100, 700\n",
    "\n",
    "out_folder =\"../out/\"\n",
    "if not os.path.exists(out_folder):\n",
    "    os.makedirs(out_folder)\n",
    "\n",
    "sigma_psf_arcsec_val = (0.512/1.177410) *(lambda_now/d)/arc_rad\n",
    "sigma_tot =np.sqrt( sigma_psf_arcsec_val**2 + sigma_ace**2)\n",
    "sigma_pix = sigma_tot/pix_arcsec #unit of pix\n",
    "\n",
    "x_cen_arr = np.linspace(-100, 100, 1000)\n",
    "y_val_arr = []\n",
    "for x_cen in x_cen_arr:\n",
    "    val = mk.pixel_1d_gaussian(x_cen, .5, sigma_pix)\n",
    "    y_val_arr.append(val)\n",
    "gauss_conv = interpolate.interp1d(x_cen_arr,  y_val_arr)\n"
   ]
  },
  {
   "cell_type": "code",
   "execution_count": 7,
   "id": "7134f3e5",
   "metadata": {},
   "outputs": [
    {
     "data": {
      "text/plain": [
       "<scipy.interpolate._interpolate.interp1d at 0x7fadf1d2f8b0>"
      ]
     },
     "execution_count": 7,
     "metadata": {},
     "output_type": "execute_result"
    }
   ],
   "source": [
    "gauss_conv"
   ]
  },
  {
   "cell_type": "code",
   "execution_count": 8,
   "id": "f048f452",
   "metadata": {},
   "outputs": [],
   "source": [
    "test =  np.linspace(-10, 10, 1000)"
   ]
  },
  {
   "cell_type": "code",
   "execution_count": 11,
   "id": "3e865df2",
   "metadata": {},
   "outputs": [
    {
     "data": {
      "text/plain": [
       "[<matplotlib.lines.Line2D at 0x7fadf5705310>]"
      ]
     },
     "execution_count": 11,
     "metadata": {},
     "output_type": "execute_result"
    },
    {
     "data": {
      "image/png": "[encoded data removed]",
      "text/plain": [
       "<Figure size 432x288 with 1 Axes>"
      ]
     },
     "metadata": {
      "needs_background": "light"
     },
     "output_type": "display_data"
    }
   ],
   "source": [
    "plt.plot(test, gauss_conv(test))"
   ]
  },
  {
   "cell_type": "code",
   "execution_count": null,
   "id": "adccfaf1",
   "metadata": {},
   "outputs": [],
   "source": []
  }
 ],
 "metadata": {
  "kernelspec": {
   "display_name": "Python 3",
   "language": "python",
   "name": "python3"
  },
  "language_info": {
   "codemirror_mode": {
    "name": "ipython",
    "version": 3
   },
   "file_extension": ".py",
   "mimetype": "text/x-python",
   "name": "python",
   "nbconvert_exporter": "python",
   "pygments_lexer": "ipython3",
   "version": "3.8.13"
  }
 },
 "nbformat": 4,
 "nbformat_minor": 5
}
