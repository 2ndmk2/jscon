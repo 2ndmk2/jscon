{
 "cells": [
  {
   "cell_type": "code",
   "execution_count": 3,
   "id": "09c9fe65",
   "metadata": {},
   "outputs": [
    {
     "data": {
      "text/plain": [
       "0.7279929549695104"
      ]
     },
     "execution_count": 3,
     "metadata": {},
     "output_type": "execute_result"
    }
   ],
   "source": [
    "\n",
    "D = 0.34 #m\n",
    "lambda_now = 1.2 * 10**-6 #um\n",
    "arc_rad = 4.84814e-6\n",
    "(lambda_now/D)/arc_rad"
   ]
  },
  {
   "cell_type": "code",
   "execution_count": 6,
   "id": "564e5337",
   "metadata": {},
   "outputs": [
    {
     "data": {
      "text/plain": [
       "0.3165697530549166"
      ]
     },
     "execution_count": 6,
     "metadata": {},
     "output_type": "execute_result"
    }
   ],
   "source": [
    "(0.512/1.177410) *(lambda_now/D)/arc_rad\n"
   ]
  },
  {
   "cell_type": "code",
   "execution_count": null,
   "id": "d207e14b",
   "metadata": {},
   "outputs": [],
   "source": []
  }
 ],
 "metadata": {
  "kernelspec": {
   "display_name": "Python 3",
   "language": "python",
   "name": "python3"
  },
  "language_info": {
   "codemirror_mode": {
    "name": "ipython",
    "version": 3
   },
   "file_extension": ".py",
   "mimetype": "text/x-python",
   "name": "python",
   "nbconvert_exporter": "python",
   "pygments_lexer": "ipython3",
   "version": "3.8.13"
  }
 },
 "nbformat": 4,
 "nbformat_minor": 5
}
